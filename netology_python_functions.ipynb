{
  "nbformat": 4,
  "nbformat_minor": 0,
  "metadata": {
    "colab": {
      "provenance": []
    },
    "kernelspec": {
      "name": "python3",
      "display_name": "Python 3"
    },
    "language_info": {
      "name": "python"
    }
  },
  "cells": [
    {
      "cell_type": "markdown",
      "source": [
        "Вам нужно помочь секретарю автоматизировать работу. Для этого нужно написать программу, которая будет на основе хранимых данных исполнять пользовательские команды."
      ],
      "metadata": {
        "id": "rmKWOuKUi8N4"
      }
    },
    {
      "cell_type": "markdown",
      "source": [
        "### **Общие требования к программе:**\n",
        "код должен быть грамотно декомпозирован (каждая функция отвечает за свою конкретную задачу, дублирующийся функционал переиспользуется, а его код не повторяется);\n",
        "\n",
        "* в коде отсутствуют глобальные переменные (за исключением documents и directories);\n",
        "* пользовательский ввод обрабатывается в цикле while до тех пор, пока пользователь явно не завершит программу (вводом команды “q”)."
      ],
      "metadata": {
        "id": "AlsI0fPmjdDo"
      }
    },
    {
      "cell_type": "code",
      "source": [
        "documents = [\n",
        " {'type': 'passport', 'number': '2207 876234', 'name': 'Василий Гупкин'},\n",
        " {'type': 'invoice', 'number': '11-2', 'name': 'Геннадий Покемонов'},\n",
        " {'type': 'insurance', 'number': '10006', 'name': 'Аристарх Павлов'}\n",
        "]"
      ],
      "metadata": {
        "id": "MKs3oMCGjOTq"
      },
      "execution_count": null,
      "outputs": []
    },
    {
      "cell_type": "code",
      "source": [
        "directories = {\n",
        " '1': ['2207 876234', '11-2'],\n",
        " '2': ['10006'],\n",
        " '3': []\n",
        "}"
      ],
      "metadata": {
        "id": "TZvn01bQjWqj"
      },
      "execution_count": null,
      "outputs": []
    },
    {
      "cell_type": "markdown",
      "source": [
        "### **Задание 1**"
      ],
      "metadata": {
        "id": "Kt0lzNW-jtY0"
      }
    },
    {
      "cell_type": "markdown",
      "source": [
        "**Пункт 1. Пользователь по команде “p” может узнать владельца документа по его номеру**"
      ],
      "metadata": {
        "id": "MMER-i_IjyZh"
      }
    },
    {
      "cell_type": "code",
      "source": [
        "def run():\n",
        "    while True:\n",
        "      command = input(\"Введите команду:\\n\")\n",
        "      if command =='p':\n",
        "        result = people(documents)\n",
        "        print(result)\n",
        "      elif command =='q':\n",
        "        print('\\nДо свидания!')\n",
        "        break\n",
        "      else:\n",
        "        print('\\nНедопустимая команда\\n')\n",
        "\n",
        "def people(documents):\n",
        "    num = input(\"\\nВведите номер документа:\\n\")\n",
        "    for dic in documents:\n",
        "      if \"number\" in dic.keys() and dic[\"number\"] == num:\n",
        "        return '\\nВладелец документа: ' + dic[\"name\"] + '\\n'\n",
        "\n",
        "    return \"\\nДокумент не найден в базе\\n\"\n",
        "\n",
        "run()"
      ],
      "metadata": {
        "id": "P22wCyjij1qv",
        "colab": {
          "base_uri": "https://localhost:8080/"
        },
        "outputId": "40d36261-8f9f-452f-d214-4c0e7dfe6c0b"
      },
      "execution_count": null,
      "outputs": [
        {
          "output_type": "stream",
          "name": "stdout",
          "text": [
            "Введите команду:\n",
            "p\n",
            "\n",
            "Введите номер документа:\n",
            "10006\n",
            "\n",
            "Владелец документа: Аристарх Павлов\n",
            "\n",
            "Введите команду:\n",
            "p\n",
            "\n",
            "Введите номер документа:\n",
            "12345\n",
            "\n",
            "Документ не найден в базе\n",
            "\n",
            "Введите команду:\n",
            "q\n",
            "\n",
            "До свидания!\n"
          ]
        }
      ]
    },
    {
      "cell_type": "markdown",
      "source": [
        "Пункт 2. Пользователь по команде “s” может по номеру документа узнать на какой полке он хранится"
      ],
      "metadata": {
        "id": "I_3Nk_SCxDVo"
      }
    },
    {
      "cell_type": "code",
      "source": [
        "def run():\n",
        "    while True:\n",
        "      command = input(\"Введите команду:\\n\")\n",
        "      if command =='s':\n",
        "        result = find_shelf(directories)\n",
        "        print(result)\n",
        "      elif command =='q':\n",
        "        print('\\nДо свидания!')\n",
        "        break\n",
        "      else:\n",
        "        print('\\nНедопустимая команда\\n')\n",
        "\n",
        "def find_shelf(directories):\n",
        "    doc_no = input(\"\\nВведите номер документа:\\n\")\n",
        "    for dir_id, document_numbers in directories.items():\n",
        "        if doc_no in document_numbers:\n",
        "            return '\\nДокумент хранится на полке: ' + dir_id + '\\n'\n",
        "\n",
        "    return '\\nДокумент не найден в базе\\n'\n",
        "\n",
        "run()"
      ],
      "metadata": {
        "id": "TwLd76vdxmzi",
        "colab": {
          "base_uri": "https://localhost:8080/"
        },
        "outputId": "08855c45-6dcd-4376-a97d-6057af9ecab2"
      },
      "execution_count": null,
      "outputs": [
        {
          "output_type": "stream",
          "name": "stdout",
          "text": [
            "Введите команду:\n",
            "s\n",
            "\n",
            "Введите номер документа:\n",
            "10006\n",
            "\n",
            "Документ хранится на полке: 2\n",
            "\n",
            "Введите команду:\n",
            "s\n",
            "\n",
            "Введите номер документа:\n",
            "12345\n",
            "\n",
            "Документ не найден в базе\n",
            "\n",
            "Введите команду:\n",
            "q\n",
            "\n",
            "До свидания!\n"
          ]
        }
      ]
    },
    {
      "cell_type": "markdown",
      "source": [
        "Пункт 3. Пользователь по команде “l” может увидеть полную информацию по всем документам"
      ],
      "metadata": {
        "id": "yfxcW-O0_FxV"
      }
    },
    {
      "cell_type": "code",
      "source": [
        "def run():\n",
        "    while True:\n",
        "      command = input(\"Введите команду:\\n\")\n",
        "      if command =='l':\n",
        "        result = all_documents(documents, directories)\n",
        "        print(result)\n",
        "      elif command =='q':\n",
        "        print('\\nДо свидания!')\n",
        "        break\n",
        "      else:\n",
        "        print('\\nНедопустимая команда\\n')\n",
        "\n",
        "def all_documents(documents, directories):\n",
        "      result = ''\n",
        "      for dir_id, document_numbers in directories.items():\n",
        "        for doc_no in document_numbers:\n",
        "          for doc in documents:\n",
        "            if \"number\" in doc.keys() and doc[\"number\"] == doc_no:\n",
        "              result += '№: ' + doc['number'] + ', тип: ' + doc['type'] + ', владелец: ' + doc['name'] + ', полка хранения: ' + dir_id + '\\n'\n",
        "\n",
        "      return result\n",
        "\n",
        "run()"
      ],
      "metadata": {
        "id": "yp4q9a87_EVo",
        "colab": {
          "base_uri": "https://localhost:8080/"
        },
        "outputId": "12494891-4bad-41b2-8a2d-42bf56962f70"
      },
      "execution_count": null,
      "outputs": [
        {
          "output_type": "stream",
          "name": "stdout",
          "text": [
            "Введите команду:\n",
            "l\n",
            "№: 2207 876234, тип: passport, владелец: Василий Гупкин, полка хранения: 1\n",
            "№: 11-2, тип: invoice, владелец: Геннадий Покемонов, полка хранения: 1\n",
            "№: 10006, тип: insurance, владелец: Аристарх Павлов, полка хранения: 2\n",
            "\n",
            "Введите команду:\n",
            "q\n",
            "\n",
            "До свидания!\n"
          ]
        }
      ]
    },
    {
      "cell_type": "markdown",
      "source": [
        "Пункт 4. Пользователь по команде “ads” может добавить новую полку"
      ],
      "metadata": {
        "id": "Gq_7m7IjcRyn"
      }
    },
    {
      "cell_type": "code",
      "source": [
        "def run():\n",
        "    while True:\n",
        "      command = input(\"Введите команду:\\n\")\n",
        "      if command =='ads':\n",
        "        shelf = input(\"\\nВведите номер полки:\\n\")\n",
        "        result = add_directory(shelf)\n",
        "        print(result)\n",
        "      elif command =='q':\n",
        "        print('\\nДо свидания!')\n",
        "        break\n",
        "      else:\n",
        "        print('\\nНедопустимая команда\\n')\n",
        "\n",
        "def add_directory(shelf):\n",
        "  if shelf in directories.keys():\n",
        "    return '\\nТакая полка уже есть! Текущий перечень полок: ' + ', '.join(directories.keys()) + '\\n'\n",
        "\n",
        "  directories[shelf] = []\n",
        "  return '\\nПолка добавлена! Текущий перечень полок: ' + ', '.join(directories.keys()) + '\\n'\n",
        "\n",
        "run()"
      ],
      "metadata": {
        "id": "QS4XNVu_4bDB",
        "colab": {
          "base_uri": "https://localhost:8080/"
        },
        "outputId": "0a0c21d4-de5c-42a0-f0f6-e1cf2e848079"
      },
      "execution_count": null,
      "outputs": [
        {
          "output_type": "stream",
          "name": "stdout",
          "text": [
            "Введите команду:\n",
            "ads\n",
            "\n",
            "Введите номер полки:\n",
            "2\n",
            "\n",
            "Такая полка уже есть! Текущий перечень полок: 1, 2, 3\n",
            "\n",
            "Введите команду:\n",
            "ads\n",
            "\n",
            "Введите номер полки:\n",
            "4\n",
            "\n",
            "Полка добавлена! Текущий перечень полок: 1, 2, 3, 4\n",
            "\n",
            "Введите команду:\n",
            "q\n",
            "\n",
            "До свидания!\n"
          ]
        }
      ]
    },
    {
      "cell_type": "markdown",
      "source": [
        "Пункт 5. Пользователь по команде “ds” может удалить существующую полку из данных (только если она пустая)"
      ],
      "metadata": {
        "id": "7jX-AmtO5XTj"
      }
    },
    {
      "cell_type": "code",
      "source": [
        "def run():\n",
        "    while True:\n",
        "      command = input(\"Введите команду:\\n\")\n",
        "      if command =='ds':\n",
        "        shelf = input(\"\\nВведите номер полки:\\n\")\n",
        "        result = dell_shelfs(shelf)\n",
        "        print(result)\n",
        "      elif command =='q':\n",
        "        print('\\nДо свидания!')\n",
        "        break\n",
        "      else:\n",
        "        print('\\nНедопустимая команда\\n')\n",
        "\n",
        "def dell_shelfs(shelf):\n",
        "  if shelf not in directories.keys():\n",
        "    return '\\nТакой полки не существует! Текущий перечень полок: ' + ', '.join(directories.keys()) + '\\n'\n",
        "  elif directories [shelf]:\n",
        "    return '\\nНа полке есть документы, удалите их перед удалением полки! Текущий перечень полок: ' + ', '.join(directories.keys()) + '\\n'\n",
        "  else:\n",
        "    del directories[shelf]\n",
        "  return '\\nПолка удалена! Текущий перечень полок: ' + ', '.join(directories.keys()) + '\\n'\n",
        "\n",
        "run()"
      ],
      "metadata": {
        "id": "gNwpoP0B5fxr",
        "colab": {
          "base_uri": "https://localhost:8080/"
        },
        "outputId": "69c8517f-4793-4f71-e608-0bead9bf2742"
      },
      "execution_count": null,
      "outputs": [
        {
          "output_type": "stream",
          "name": "stdout",
          "text": [
            "Введите команду:\n",
            "ds\n",
            "\n",
            "Введите номер полки:\n",
            "1\n",
            "\n",
            "На полке есть документы, удалите их перед удалением полки! Текущий перечень полок: 1, 2, 3, 4\n",
            "\n",
            "Введите команду:\n",
            "ds\n",
            "\n",
            "Введите номер полки:\n",
            "5\n",
            "\n",
            "Такой полки не существует! Текущий перечень полок: 1, 2, 3, 4\n",
            "\n",
            "Введите команду:\n",
            "ds\n",
            "\n",
            "Введите номер полки:\n",
            "4\n",
            "\n",
            "Полка удалена! Текущий перечень полок: 1, 2, 3\n",
            "\n",
            "Введите команду:\n",
            "q\n",
            "\n",
            "До свидания!\n"
          ]
        }
      ]
    },
    {
      "cell_type": "markdown",
      "source": [
        "# Программа для автоматизации работы"
      ],
      "metadata": {
        "id": "Q7kq5TGjFtiV"
      }
    },
    {
      "cell_type": "code",
      "source": [
        "documents = [\n",
        " {'type': 'passport', 'number': '2207 876234', 'name': 'Василий Гупкин'},\n",
        " {'type': 'invoice', 'number': '11-2', 'name': 'Геннадий Покемонов'},\n",
        " {'type': 'insurance', 'number': '10006', 'name': 'Аристарх Павлов'}\n",
        "]\n",
        "\n",
        "directories = {\n",
        " '1': ['2207 876234', '11-2'],\n",
        " '2': ['10006'],\n",
        " '3': []\n",
        "}"
      ],
      "metadata": {
        "id": "Soriv9EUQYkU"
      },
      "execution_count": null,
      "outputs": []
    },
    {
      "cell_type": "code",
      "source": [
        "def people():\n",
        "    num = input(\"\\nВведите номер документа:\\n\")\n",
        "    for dic in documents:\n",
        "      if \"number\" in dic.keys() and dic[\"number\"] == num:\n",
        "        return '\\nВладелец документа: ' + dic[\"name\"] + '\\n'\n",
        "\n",
        "    return '\\nДокумент не найден в базе\\n'\n",
        "\n",
        "def find_shelf():\n",
        "    doc_no = input(\"\\nВведите номер документа:\\n\")\n",
        "    for dir_id, document_numbers in directories.items():\n",
        "        if doc_no in document_numbers:\n",
        "            return '\\nДокумент хранится на полке: ' + dir_id + '\\n'\n",
        "\n",
        "    return '\\nДокумент не найден в базе\\n'\n",
        "\n",
        "def all_documents():\n",
        "      result = ''\n",
        "      for dir_id, document_numbers in directories.items():\n",
        "        for doc_no in document_numbers:\n",
        "          for doc in documents:\n",
        "            if \"number\" in doc.keys() and doc[\"number\"] == doc_no:\n",
        "              result += '№: ' + doc['number'] + ', тип: ' + doc['type'] + ', владелец: ' + doc['name'] + ', полка хранения: ' + dir_id + '\\n'\n",
        "\n",
        "      return result\n",
        "\n",
        "def add_directory(shelf):\n",
        "    if shelf in directories.keys():\n",
        "       return '\\nТакая полка уже есть! Текущий перечень полок: ' + ', '.join(directories.keys()) + '\\n'\n",
        "    directories[shelf] = []\n",
        "    return '\\nПолка добавлена! Текущий перечень полок: ' + ', '.join(directories.keys()) + '\\n'\n",
        "\n",
        "def dell_shelfs(shelf):\n",
        "  if shelf not in directories.keys():\n",
        "    return '\\nТакой полки не существует! Текущий перечень полок: ' + ', '.join(directories.keys()) + '\\n'\n",
        "  elif directories [shelf]:\n",
        "    return '\\nНа полке есть документы, удалите их перед удалением полки! Текущий перечень полок: ' + ', '.join(directories.keys()) + '\\n'\n",
        "  else:\n",
        "    del directories[shelf]\n",
        "  return '\\nПолка удалена! Текущий перечень полок: ' + ', '.join(directories.keys()) + '\\n'\n",
        "\n",
        "def run():\n",
        "    print('Выберите команду:\\n'\n",
        "        'p - узнать владельца документа по его номеру\\n'\n",
        "        's - узнать по номеру документа на какой полке хранится документ\\n'\n",
        "        'l - посмотреть полную информацию по всем документам\\n'\n",
        "        'ads - добавить новую полку\\n'\n",
        "        'ds - удалить существующую полку из данных (только если она пустая)\\n'\n",
        "        'q - выход из программы\\n')\n",
        "\n",
        "    while True:\n",
        "\n",
        "      command = input(\"Введите команду:\\n\")\n",
        "\n",
        "      if command =='p':\n",
        "        result = people()\n",
        "        print(result)\n",
        "      elif command =='s':\n",
        "        result = find_shelf()\n",
        "        print(result)\n",
        "      elif command =='l':\n",
        "        result = all_documents()\n",
        "        print(result)\n",
        "      elif command =='ads':\n",
        "        shelf = input(\"\\nВведите номер полки:\\n\")\n",
        "        result = add_directory(shelf)\n",
        "        print(result)\n",
        "      elif command =='ds':\n",
        "        shelf = input(\"\\nВведите номер полки:\\n\")\n",
        "        result = dell_shelfs(shelf)\n",
        "        print(result)\n",
        "      elif command =='q':\n",
        "        print('\\nДо свидания!')\n",
        "        break\n",
        "      else:\n",
        "        print('\\nНедопустимая команда\\n')\n",
        "\n",
        "run()"
      ],
      "metadata": {
        "id": "lghtcLr7Fw6j",
        "colab": {
          "base_uri": "https://localhost:8080/"
        },
        "outputId": "d74741cd-0be3-43e5-946a-c1457c4298f7"
      },
      "execution_count": null,
      "outputs": [
        {
          "output_type": "stream",
          "name": "stdout",
          "text": [
            "Выберите команду:\n",
            "p - узнать владельца документа по его номеру\n",
            "s - узнать по номеру документа на какой полке хранится документ\n",
            "l - посмотреть полную информацию по всем документам\n",
            "ads - добавить новую полку\n",
            "ds - удалить существующую полку из данных (только если она пустая)\n",
            "q - выход из программы\n",
            "\n",
            "Введите команду:\n",
            "f\n",
            "\n",
            "Недопустимая команда\n",
            "\n",
            "Введите команду:\n",
            "p\n",
            "\n",
            "Введите номер документа:\n",
            "10006\n",
            "\n",
            "Владелец документа: Аристарх Павлов\n",
            "\n",
            "Введите команду:\n",
            "s\n",
            "\n",
            "Введите номер документа:\n",
            "10006\n",
            "\n",
            "Документ хранится на полке: 2\n",
            "\n",
            "Введите команду:\n",
            "l\n",
            "№: 2207 876234, тип: passport, владелец: Василий Гупкин, полка хранения: 1\n",
            "№: 11-2, тип: invoice, владелец: Геннадий Покемонов, полка хранения: 1\n",
            "№: 10006, тип: insurance, владелец: Аристарх Павлов, полка хранения: 2\n",
            "\n",
            "Введите команду:\n",
            "ads\n",
            "\n",
            "Введите номер полки:\n",
            "7\n",
            "\n",
            "Полка добавлена! Текущий перечень полок: 1, 2, 3, 7\n",
            "\n",
            "Введите команду:\n",
            "ds\n",
            "\n",
            "Введите номер полки:\n",
            "3\n",
            "\n",
            "Полка удалена! Текущий перечень полок: 1, 2, 7\n",
            "\n",
            "Введите команду:\n",
            "q\n",
            "\n",
            "До свидания!\n"
          ]
        }
      ]
    },
    {
      "cell_type": "markdown",
      "source": [
        "# Задание 2 (необязательное)**"
      ],
      "metadata": {
        "id": "ZNQHJbwVUFZt"
      }
    },
    {
      "cell_type": "markdown",
      "source": [
        "Вам необходимо дополнить программу из задания 1 более продвинутыми командами."
      ],
      "metadata": {
        "id": "tqiGOv_iUUw5"
      }
    },
    {
      "cell_type": "markdown",
      "source": [
        "Пункт 1. Пользователь по команде “ad” может добавить новый документ в данные"
      ],
      "metadata": {
        "id": "ZuSst2iUUX4F"
      }
    },
    {
      "cell_type": "code",
      "source": [
        "def run():\n",
        "    while True:\n",
        "      command = input(\"Введите команду:\\n\")\n",
        "      if command =='ad':\n",
        "        print(add_new_document(input('\\nВведите номер документа:\\n'),\n",
        "                         input('Введите тип документа: (passport, invoice, insurance,...):\\n'),\n",
        "                         input('Введите владельца документа:\\n'),\n",
        "                         input('Введите полку для хранения:\\n')))\n",
        "      elif command =='q':\n",
        "        print('\\nДо свидания!')\n",
        "        break\n",
        "      else:\n",
        "        print('\\nНедопустимая команда\\n')\n",
        "\n",
        "def add_new_document(doc_number, doc_type, doc_name, shelf):\n",
        "    if shelf in directories.keys():\n",
        "        documents.append({\"number\": doc_number, \"type\": doc_type, \"name\": doc_name})\n",
        "        directories[shelf].append(doc_number)\n",
        "        return '\\nДокумент добавлен! Текущий список документов:\\n' + all_documents()\n",
        "    else:\n",
        "        return '\\nТакой полки не существует! Добавьте полку командой ads.\\n' + 'Текущий список документов:\\n' + all_documents()\n",
        "\n",
        "run()"
      ],
      "metadata": {
        "id": "GbQ4t7keUbea",
        "colab": {
          "base_uri": "https://localhost:8080/"
        },
        "outputId": "755399d6-5a35-42e5-e7c1-62edda5b3749"
      },
      "execution_count": null,
      "outputs": [
        {
          "output_type": "stream",
          "name": "stdout",
          "text": [
            "Введите команду:\n",
            "ad\n",
            "\n",
            "Введите номер документа:\n",
            "42\n",
            "Введите тип документа: (passport, invoice, insurance,...):\n",
            "multipassport\n",
            "Введите владельца документа:\n",
            "R2D2\n",
            "Введите полку для хранения:\n",
            "5\n",
            "\n",
            "Такой полки не существует! Добавьте полку командой ads.\n",
            "Текущий список документов:\n",
            "№: 2207 876234, тип: passport, владелец: Василий Гупкин, полка хранения: 1\n",
            "№: 11-2, тип: invoice, владелец: Геннадий Покемонов, полка хранения: 1\n",
            "№: 10006, тип: insurance, владелец: Аристарх Павлов, полка хранения: 2\n",
            "\n",
            "Введите команду:\n",
            "ad\n",
            "\n",
            "Введите номер документа:\n",
            "42\n",
            "Введите тип документа: (passport, invoice, insurance,...):\n",
            "multipassport\n",
            "Введите владельца документа:\n",
            "R2D2\n",
            "Введите полку для хранения:\n",
            "7\n",
            "\n",
            "Документ добавлен! Текущий список документов:\n",
            "№: 2207 876234, тип: passport, владелец: Василий Гупкин, полка хранения: 1\n",
            "№: 11-2, тип: invoice, владелец: Геннадий Покемонов, полка хранения: 1\n",
            "№: 10006, тип: insurance, владелец: Аристарх Павлов, полка хранения: 2\n",
            "№: 42, тип: multipassport, владелец: R2D2, полка хранения: 7\n",
            "\n",
            "Введите команду:\n",
            "q\n",
            "\n",
            "До свидания!\n"
          ]
        }
      ]
    },
    {
      "cell_type": "markdown",
      "source": [
        "Пункт 2. Пользователь по команде “d” может удалить документ из данных"
      ],
      "metadata": {
        "id": "fIuil6ioneb1"
      }
    },
    {
      "cell_type": "code",
      "source": [
        "def run():\n",
        "    while True:\n",
        "      command = input(\"Введите команду:\\n\")\n",
        "      if command =='d':\n",
        "        document = input('\\nВведите номер документа:\\n')\n",
        "        result = del_document(document)\n",
        "        print(result)\n",
        "      elif command =='q':\n",
        "        print('\\nДо свидания!')\n",
        "        break\n",
        "      else:\n",
        "        print('\\nНедопустимая команда\\n')\n",
        "\n",
        "def del_document(doc_number):\n",
        "    for document in documents:\n",
        "        if document['number'] == doc_number:\n",
        "           document['number'] = 'Удален'\n",
        "    for directory_value in directories.values():\n",
        "        if doc_number in directory_value:\n",
        "          directory_value.remove(doc_number)\n",
        "          return '\\nДокумент удален!\\n' + 'Текущий список документов:\\n' + all_documents()\n",
        "    else:\n",
        "         return '\\nДокумент не найден в базе!\\n' + 'Текущий список документов:\\n' + all_documents()\n",
        "\n",
        "run()"
      ],
      "metadata": {
        "colab": {
          "base_uri": "https://localhost:8080/"
        },
        "id": "-vOlFXeinjGw",
        "outputId": "63d2eca5-ac53-45e2-a889-c96017e977c2"
      },
      "execution_count": null,
      "outputs": [
        {
          "output_type": "stream",
          "name": "stdout",
          "text": [
            "Введите команду:\n",
            "d\n",
            "\n",
            "Введите номер документа:\n",
            "12345\n",
            "\n",
            "Документ не найден в базе!\n",
            "Текущий список документов:\n",
            "№: 2207 876234, тип: passport, владелец: Василий Гупкин, полка хранения: 1\n",
            "№: 11-2, тип: invoice, владелец: Геннадий Покемонов, полка хранения: 1\n",
            "№: 10006, тип: insurance, владелец: Аристарх Павлов, полка хранения: 2\n",
            "№: 42, тип: multipassport, владелец: R2D2, полка хранения: 7\n",
            "\n",
            "Введите команду:\n",
            "d\n",
            "\n",
            "Введите номер документа:\n",
            "10006\n",
            "\n",
            "Документ удален!\n",
            "Текущий список документов:\n",
            "№: 2207 876234, тип: passport, владелец: Василий Гупкин, полка хранения: 1\n",
            "№: 11-2, тип: invoice, владелец: Геннадий Покемонов, полка хранения: 1\n",
            "№: 42, тип: multipassport, владелец: R2D2, полка хранения: 7\n",
            "\n",
            "Введите команду:\n",
            "q\n",
            "\n",
            "До свидания!\n"
          ]
        }
      ]
    },
    {
      "cell_type": "markdown",
      "source": [
        "Пункт 3. Пользователь по команде “m” может переместить документ с полки на полку"
      ],
      "metadata": {
        "id": "JQ6fX4jJRMzS"
      }
    },
    {
      "cell_type": "code",
      "source": [
        "def run():\n",
        "    while True:\n",
        "      command = input(\"Введите команду:\\n\")\n",
        "      if command =='m':\n",
        "        print(move_document(input('\\nВведите номер документа:\\n'),\n",
        "                      input('Введите номер полки:\\n')))\n",
        "      elif command =='q':\n",
        "        print('\\nДо свидания!')\n",
        "        break\n",
        "      else:\n",
        "        print('\\nНедопустимая команда\\n')\n",
        "\n",
        "def move_document(doc_number, another_shelf):\n",
        "    if another_shelf in directories.keys():\n",
        "      for shelf, directory in directories.items():\n",
        "        if doc_number in directory:\n",
        "          directories[shelf].remove(doc_number)\n",
        "          directories[another_shelf].append(doc_number)\n",
        "          return '\\nДокумент перемещен!' + 'Текущий список документов:\\n' + all_documents(documents, directories)\n",
        "        else:\n",
        "          return '\\nДокумент не найден в базе!\\n' + 'Текущий список документов:\\n' + all_documents(documents, directories)\n",
        "    else:\n",
        "      return '\\nТакой полки не существует! Текущий перечень полок: ' + ', '.join(directories.keys()) + '\\n'\n",
        "\n",
        "run()"
      ],
      "metadata": {
        "colab": {
          "base_uri": "https://localhost:8080/"
        },
        "id": "D65OeH-cRUVt",
        "outputId": "6b09e70b-cfb9-4d9c-84eb-dabc8596ee38"
      },
      "execution_count": null,
      "outputs": [
        {
          "output_type": "stream",
          "name": "stdout",
          "text": [
            "Введите команду:\n",
            "m\n",
            "\n",
            "Введите номер документа:\n",
            "11-2\n",
            "Введите номер полки:\n",
            "3\n",
            "\n",
            "Документ не найден в базе!\n",
            "Текущий список документов:\n",
            "№: 2207 876234, тип: passport, владелец: Василий Гупкин, полка хранения: 1\n",
            "№: 10006, тип: insurance, владелец: Аристарх Павлов, полка хранения: 2\n",
            "№: 11-2, тип: invoice, владелец: Геннадий Покемонов, полка хранения: 3\n",
            "\n",
            "Введите команду:\n",
            "m\n",
            "\n",
            "Введите номер документа:\n",
            "11-2\n",
            "Введите номер полки:\n",
            "10\n",
            "\n",
            "Такой полки не существует! Текущий перечень полок: 1, 2, 3\n",
            "\n",
            "Введите команду:\n",
            "m\n",
            "\n",
            "Введите номер документа:\n",
            "42\n",
            "Введите номер полки:\n",
            "2\n",
            "\n",
            "Документ не найден в базе!\n",
            "Текущий список документов:\n",
            "№: 2207 876234, тип: passport, владелец: Василий Гупкин, полка хранения: 1\n",
            "№: 10006, тип: insurance, владелец: Аристарх Павлов, полка хранения: 2\n",
            "№: 11-2, тип: invoice, владелец: Геннадий Покемонов, полка хранения: 3\n",
            "\n",
            "Введите команду:\n",
            "q\n",
            "\n",
            "До свидания!\n"
          ]
        }
      ]
    }
  ]
}