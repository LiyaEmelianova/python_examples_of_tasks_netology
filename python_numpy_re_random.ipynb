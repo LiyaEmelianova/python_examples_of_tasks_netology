{
  "cells": [
    {
      "cell_type": "markdown",
      "metadata": {
        "id": "1zIJ5XCPfAfd"
      },
      "source": [
        "## Лабораторная работа по курсу «Python для анализа данных»"
      ]
    },
    {
      "cell_type": "markdown",
      "metadata": {
        "id": "4h-0juMHfAfl"
      },
      "source": [
        "### При выполнении работы допускается использование любых внешних модулей и пакетов."
      ]
    },
    {
      "cell_type": "markdown",
      "metadata": {
        "id": "sP4chKs_fAfn"
      },
      "source": [
        "#### Задача 1"
      ]
    },
    {
      "cell_type": "markdown",
      "metadata": {
        "id": "yLBTJiuHfAfo"
      },
      "source": [
        "Дана строка:"
      ]
    },
    {
      "cell_type": "code",
      "execution_count": null,
      "metadata": {
        "id": "roIWyLVefAfp"
      },
      "outputs": [],
      "source": [
        "string_01 = \"History is always written by the winners. When two cultures clash, the loser is obliterated, and the winner writes the history books - books which glorify their own cause and disparage the conquered foe. As Napoleon once said, 'What is history, but a fable agreed upon?'\""
      ]
    },
    {
      "cell_type": "markdown",
      "metadata": {
        "id": "4b1tR3JafAfs"
      },
      "source": [
        "1. Посчитайте, сколько в строке символов, исключая пробелы:\n",
        "\n",
        "---\n",
        "\n"
      ]
    },
    {
      "cell_type": "code",
      "execution_count": null,
      "metadata": {
        "id": "wieoTOohfAfs",
        "colab": {
          "base_uri": "https://localhost:8080/"
        },
        "outputId": "4a8b9b14-c4c4-4445-dc03-dee4a931378d"
      },
      "outputs": [
        {
          "output_type": "stream",
          "name": "stdout",
          "text": [
            "225\n"
          ]
        }
      ],
      "source": [
        "import re\n",
        "\n",
        "string_02 = re.sub(r'\\s+', '', string_01)\n",
        "\n",
        "print(len(string_02))"
      ]
    },
    {
      "cell_type": "markdown",
      "metadata": {
        "id": "cr2u2txbfAft"
      },
      "source": [
        "2. Посчитайте, сколько в строке слов."
      ]
    },
    {
      "cell_type": "code",
      "execution_count": null,
      "metadata": {
        "id": "i94UYs-yfAfu",
        "colab": {
          "base_uri": "https://localhost:8080/"
        },
        "outputId": "83bf83cf-a6be-417f-95f6-f0631c24bf42"
      },
      "outputs": [
        {
          "output_type": "stream",
          "name": "stdout",
          "text": [
            "45\n"
          ]
        }
      ],
      "source": [
        "string_03 = re.sub(r'[.,-?\\']', '', string_01)\n",
        "words_list = re.split(r'\\s+', string_03)\n",
        "print(len(words_list))"
      ]
    },
    {
      "cell_type": "markdown",
      "metadata": {
        "id": "hx-iq21qfAfv"
      },
      "source": [
        "3. Напишите функцию, которая будет принимать в качестве аргумента букву и выводить все слова из строки, начинающиеся на эту букву (например, “w”)."
      ]
    },
    {
      "cell_type": "code",
      "source": [
        "def words(char, w_list):\n",
        "    result = []\n",
        "    for word in w_list:\n",
        "        if char == word[0].lower():\n",
        "            result.append(word)\n",
        "    print(result)\n",
        "\n",
        "\n",
        "letter = input().lower()\n",
        "\n",
        "words(letter, words_list)"
      ],
      "metadata": {
        "colab": {
          "base_uri": "https://localhost:8080/"
        },
        "id": "1HGcCnaaNgUE",
        "outputId": "918272da-6e85-43dc-c62f-2f18c0cb6771"
      },
      "execution_count": null,
      "outputs": [
        {
          "output_type": "stream",
          "name": "stdout",
          "text": [
            "t\n",
            "['the', 'two', 'the', 'the', 'the', 'their', 'the']\n"
          ]
        }
      ]
    },
    {
      "cell_type": "markdown",
      "source": [
        "**Второй вариант**"
      ],
      "metadata": {
        "id": "FjWW2QwQlDrk"
      }
    },
    {
      "cell_type": "code",
      "source": [
        "def find_words (letter):\n",
        "    pattern = r'\\b' + letter + '\\w*'\n",
        "    list_words_2 = re.findall(pattern, string_01, re.I)\n",
        "    print(list_words_2)"
      ],
      "metadata": {
        "id": "m_l4E4odk-Z3"
      },
      "execution_count": null,
      "outputs": []
    },
    {
      "cell_type": "code",
      "source": [
        "find_words('w')"
      ],
      "metadata": {
        "colab": {
          "base_uri": "https://localhost:8080/"
        },
        "id": "GyMvFBJklIT3",
        "outputId": "f73d8437-238a-4834-dc0f-c02b2b254806"
      },
      "execution_count": null,
      "outputs": [
        {
          "output_type": "stream",
          "name": "stdout",
          "text": [
            "['written', 'winners', 'When', 'winner', 'writes', 'which', 'What']\n"
          ]
        }
      ]
    },
    {
      "cell_type": "markdown",
      "metadata": {
        "id": "r9RAjYwKfAfx"
      },
      "source": [
        "#### Задача 2"
      ]
    },
    {
      "cell_type": "markdown",
      "metadata": {
        "id": "kwyRn_PffAfy"
      },
      "source": [
        "Напишите код, который будет генерировать случайную последовательность из 6 цифр, одна из которых должна быть 3. Позиция цифры 3 должна\n",
        "определяться случайным образом. Результат должен быть строкой. Например: \"456309\" или \"330127\"."
      ]
    },
    {
      "cell_type": "code",
      "source": [
        "from random import randint\n",
        "\n",
        "def gen_rand_num_with_3(length: int = 6):\n",
        "    numbers = list(map(lambda _: randint(0, 9), range(length)))\n",
        "    numbers_last_index = len(numbers) - 1\n",
        "    numbers[randint(0, numbers_last_index)] = 3\n",
        "\n",
        "    print(''.join(str(numbers)))\n",
        "\n",
        "gen_rand_num_with_3()"
      ],
      "metadata": {
        "colab": {
          "base_uri": "https://localhost:8080/"
        },
        "id": "WFvEBZBZo2GL",
        "outputId": "bd6c335d-e488-4b92-bbe6-78c7a467589c"
      },
      "execution_count": null,
      "outputs": [
        {
          "output_type": "stream",
          "name": "stdout",
          "text": [
            "[1, 6, 6, 3, 7, 5]\n"
          ]
        }
      ]
    },
    {
      "cell_type": "code",
      "source": [
        "import random\n",
        "import string\n",
        "import secrets\n",
        "num = 6\n",
        "res = ''.join(secrets.choice(string.digits) for x in range(num))\n",
        "print(str(res))"
      ],
      "metadata": {
        "colab": {
          "base_uri": "https://localhost:8080/"
        },
        "id": "YH2tqKnnWXTv",
        "outputId": "4a5b9007-427c-4ea5-d3f5-7b6c0a93f704"
      },
      "execution_count": null,
      "outputs": [
        {
          "output_type": "stream",
          "name": "stdout",
          "text": [
            "923723\n"
          ]
        }
      ]
    },
    {
      "cell_type": "markdown",
      "source": [
        "**Верный вариант**"
      ],
      "metadata": {
        "id": "-aZ1jXc0lX6i"
      }
    },
    {
      "cell_type": "code",
      "source": [
        "number = ''\n",
        "while '3' not in number:\n",
        "    number = ''.join([str(random.randint(0, 9)) for x in range(6)])\n",
        "number"
      ],
      "metadata": {
        "colab": {
          "base_uri": "https://localhost:8080/",
          "height": 36
        },
        "id": "MmX_e5RelU2o",
        "outputId": "3efd7ff6-3b89-484f-9c64-a7e056a34921"
      },
      "execution_count": null,
      "outputs": [
        {
          "output_type": "execute_result",
          "data": {
            "text/plain": [
              "'157032'"
            ],
            "application/vnd.google.colaboratory.intrinsic+json": {
              "type": "string"
            }
          },
          "metadata": {},
          "execution_count": 72
        }
      ]
    },
    {
      "cell_type": "markdown",
      "metadata": {
        "id": "9xQK-_ERfAfz"
      },
      "source": [
        "#### Задача 3"
      ]
    },
    {
      "cell_type": "markdown",
      "metadata": {
        "id": "wgNyVk-jfAf0"
      },
      "source": [
        "Дан список:"
      ]
    },
    {
      "cell_type": "code",
      "execution_count": null,
      "metadata": {
        "id": "cavdYwpxfAf0"
      },
      "outputs": [],
      "source": [
        "list_01 = [1, 1, 2, 3, 5, 8, 13, 21, 34, 55, 89, 144, 233, 377, 610, 14, 46, 273, 22, 99, 15, 1000]"
      ]
    },
    {
      "cell_type": "markdown",
      "metadata": {
        "id": "NnDfCNHIfAf1"
      },
      "source": [
        "Напишите алгоритм, который выводит число, равное сумме элементов списка, которые больше 10, но меньше 100, и которые больше 200, но меньше 500."
      ]
    },
    {
      "cell_type": "code",
      "execution_count": null,
      "metadata": {
        "id": "9orzpu2IfAf1",
        "colab": {
          "base_uri": "https://localhost:8080/"
        },
        "outputId": "6263b5fa-7e17-49d3-e2d0-cb2bd87ad8e2"
      },
      "outputs": [
        {
          "output_type": "stream",
          "name": "stdout",
          "text": [
            "3065 False False\n"
          ]
        }
      ],
      "source": [
        "num = sum(list_01)\n",
        "a = 10 < sum(list_01) < 100\n",
        "b = 200 < num < 500\n",
        "\n",
        "print(num, a, b)\n",
        "#sum(filter(lambda num: 10 < num < 100, list_01) and (lambda num: 200 < num < 500, list_01))"
      ]
    },
    {
      "cell_type": "markdown",
      "metadata": {
        "id": "SXcCgqLafAf2"
      },
      "source": [
        "#### Задача 4"
      ]
    },
    {
      "cell_type": "markdown",
      "metadata": {
        "id": "XhKjBK7SfAf2"
      },
      "source": [
        "Данные студентов представлены в виде списка списков:"
      ]
    },
    {
      "cell_type": "code",
      "execution_count": null,
      "metadata": {
        "id": "xwp4s1OTfAf3"
      },
      "outputs": [],
      "source": [
        "students = [\n",
        "[\"0001\", \"Антонов\", \"Антон\", \"Игоревич\", \"20.08.2009\",\"БСТ161\"],\n",
        "[\"1102\", \"Богов\", \"Артем\", \"Игоревич\", \"25.01.2010\",\"БСТ162\"],\n",
        "[\"0333\", \"Глаголева\", \"Анастасия\", \"Николаевна\", \"11.07.2009\", \"БСТ163\"],\n",
        "[\"4004\", \"Степанова\", \"Наталья\", \"Александровна\", \"13.02.2008\", \"БСТ161\"],\n",
        "[\"0045\", \"Боков\", \"Игорь\", \"Харитонович\", \"02.06.2009\", \"БСТ161\"],\n",
        "[\"0096\", \"Васильков\", \"Валентин\", \"Сергеевич\", \"20.03.2009\", \"БСТ164\"],\n",
        "[\"0607\", \"Сиропова\", \"Виолетта\", \"Эдуардовна\", \"28.05.2010\", \"БСТ162\"]\n",
        "    ]"
      ]
    },
    {
      "cell_type": "markdown",
      "metadata": {
        "id": "Pfztlg7OfAf4"
      },
      "source": [
        "1. Преобразуйте данные таким образом, чтобы они были представлены в виде словаря, в котором ключами являются номера студентов, а значениями — список из других данных о студентах."
      ]
    },
    {
      "cell_type": "code",
      "execution_count": null,
      "metadata": {
        "id": "FVlhhsX6fAf4"
      },
      "outputs": [],
      "source": [
        "students_dict = dict()\n",
        "for x in students:\n",
        "    students_dict[x[0]] = x[1:]"
      ]
    },
    {
      "cell_type": "code",
      "source": [
        "students_dict"
      ],
      "metadata": {
        "colab": {
          "base_uri": "https://localhost:8080/"
        },
        "id": "WfBQXUwBjJ8n",
        "outputId": "1003b436-89db-44b7-95f0-fb43d17c974c"
      },
      "execution_count": null,
      "outputs": [
        {
          "output_type": "execute_result",
          "data": {
            "text/plain": [
              "{'0001': ['Антонов', 'Антон', 'Игоревич', '20.08.2009', 'БСТ161'],\n",
              " '1102': ['Богов', 'Артем', 'Игоревич', '25.01.2010', 'БСТ162'],\n",
              " '0333': ['Глаголева', 'Анастасия', 'Николаевна', '11.07.2009', 'БСТ163'],\n",
              " '4004': ['Степанова', 'Наталья', 'Александровна', '13.02.2008', 'БСТ161'],\n",
              " '0045': ['Боков', 'Игорь', 'Харитонович', '02.06.2009', 'БСТ161'],\n",
              " '0096': ['Васильков', 'Валентин', 'Сергеевич', '20.03.2009', 'БСТ164'],\n",
              " '0607': ['Сиропова', 'Виолетта', 'Эдуардовна', '28.05.2010', 'БСТ162']}"
            ]
          },
          "metadata": {},
          "execution_count": 47
        }
      ]
    },
    {
      "cell_type": "markdown",
      "metadata": {
        "id": "TerOKVV9fAf4"
      },
      "source": [
        "2. Напишите функцию, которая принимает в качестве аргумента номер студента и новый номер группы и позволяет изменить номер группы этого студента на новый внутри созданного словаря."
      ]
    },
    {
      "cell_type": "code",
      "execution_count": null,
      "metadata": {
        "id": "_kAUv0yBfAf5"
      },
      "outputs": [],
      "source": [
        "def change_group (s_id, new_g):\n",
        "    students_dict[s_id][4] = new_g"
      ]
    },
    {
      "cell_type": "code",
      "source": [
        "change_group('0096', 'БСТ161')"
      ],
      "metadata": {
        "id": "-4GtkoY0jP32"
      },
      "execution_count": null,
      "outputs": []
    },
    {
      "cell_type": "code",
      "source": [
        "students_dict"
      ],
      "metadata": {
        "colab": {
          "base_uri": "https://localhost:8080/"
        },
        "id": "RhraMDDljSny",
        "outputId": "c2f70a84-fd51-4a4e-a061-85231bdbc1f0"
      },
      "execution_count": null,
      "outputs": [
        {
          "output_type": "execute_result",
          "data": {
            "text/plain": [
              "{'0001': ['Антонов', 'Антон', 'Игоревич', '20.08.2009', 'БСТ161'],\n",
              " '1102': ['Богов', 'Артем', 'Игоревич', '25.01.2010', 'БСТ162'],\n",
              " '0333': ['Глаголева', 'Анастасия', 'Николаевна', '11.07.2009', 'БСТ163'],\n",
              " '4004': ['Степанова', 'Наталья', 'Александровна', '13.02.2008', 'БСТ161'],\n",
              " '0045': ['Боков', 'Игорь', 'Харитонович', '02.06.2009', 'БСТ161'],\n",
              " '0096': ['Васильков', 'Валентин', 'Сергеевич', '20.03.2009', 'БСТ161'],\n",
              " '0607': ['Сиропова', 'Виолетта', 'Эдуардовна', '28.05.2010', 'БСТ162']}"
            ]
          },
          "metadata": {},
          "execution_count": 50
        }
      ]
    },
    {
      "cell_type": "markdown",
      "metadata": {
        "id": "m3_NqX21fAf5"
      },
      "source": [
        "3. Напишите функцию, которая принимает номер группы и выводит список (фамилии, имена, отчества) всех студентов этой группы. Необходимо обращаться к словарю."
      ]
    },
    {
      "cell_type": "code",
      "execution_count": null,
      "metadata": {
        "id": "BWFIuIotfAf6"
      },
      "outputs": [],
      "source": [
        "def print_group (g_id):\n",
        "    for x in students_dict.values():\n",
        "        if x[4] == g_id:\n",
        "            print(x[0], x[1], x[2])"
      ]
    },
    {
      "cell_type": "code",
      "source": [
        "print_group('БСТ161')"
      ],
      "metadata": {
        "colab": {
          "base_uri": "https://localhost:8080/"
        },
        "id": "H_GJ42-wjZya",
        "outputId": "4308de78-5267-4347-d8ca-10154247e645"
      },
      "execution_count": null,
      "outputs": [
        {
          "output_type": "stream",
          "name": "stdout",
          "text": [
            "Антонов Антон Игоревич\n",
            "Степанова Наталья Александровна\n",
            "Боков Игорь Харитонович\n",
            "Васильков Валентин Сергеевич\n"
          ]
        }
      ]
    },
    {
      "cell_type": "markdown",
      "metadata": {
        "id": "nYqKZlc4fAf6"
      },
      "source": [
        "#### Задача 5"
      ]
    },
    {
      "cell_type": "markdown",
      "metadata": {
        "id": "jz0uxZpyfAf7"
      },
      "source": [
        "Дана матрица:"
      ]
    },
    {
      "cell_type": "code",
      "execution_count": null,
      "metadata": {
        "id": "0accD9EKfAf7"
      },
      "outputs": [],
      "source": [
        "import numpy as np\n",
        "\n",
        "matrix = [\n",
        "    [0, 1, 2, 4, 8],\n",
        "    [6, 2, 2, 1, 9],\n",
        "    [3, 3, 3, 3, 3],\n",
        "    [4, 6, 7, 1, 2],\n",
        "    [5, 7, 3, 4, 0]\n",
        "]"
      ]
    },
    {
      "cell_type": "markdown",
      "metadata": {
        "id": "_kKqvWSofAf8"
      },
      "source": [
        "1. Выведите результат сложения всех элементов матрицы."
      ]
    },
    {
      "cell_type": "code",
      "execution_count": null,
      "metadata": {
        "id": "_ddmhi_yfAf8",
        "colab": {
          "base_uri": "https://localhost:8080/"
        },
        "outputId": "c6731e0d-379a-4290-eba8-01499164fe4e"
      },
      "outputs": [
        {
          "output_type": "execute_result",
          "data": {
            "text/plain": [
              "89"
            ]
          },
          "metadata": {},
          "execution_count": 59
        }
      ],
      "source": [
        "sum(sum(x) for x in matrix)"
      ]
    },
    {
      "cell_type": "markdown",
      "metadata": {
        "id": "VQ-F2FdOfAf9"
      },
      "source": [
        "2. Напишите алгоритм вычисления максимума из сумм элементов каждого столбца."
      ]
    },
    {
      "cell_type": "code",
      "execution_count": null,
      "metadata": {
        "id": "kZJHo5pXfAf9",
        "colab": {
          "base_uri": "https://localhost:8080/"
        },
        "outputId": "eb2adf90-69a0-494a-af6d-be63e7a6a9ce"
      },
      "outputs": [
        {
          "output_type": "execute_result",
          "data": {
            "text/plain": [
              "22"
            ]
          },
          "metadata": {},
          "execution_count": 60
        }
      ],
      "source": [
        "max(sum(x) for x in zip(*matrix))"
      ]
    },
    {
      "cell_type": "code",
      "source": [
        "print(matrix)"
      ],
      "metadata": {
        "colab": {
          "base_uri": "https://localhost:8080/"
        },
        "id": "3KlCMb5AkI3d",
        "outputId": "90f3189c-737d-4c9e-f983-25bca4641a51"
      },
      "execution_count": null,
      "outputs": [
        {
          "output_type": "stream",
          "name": "stdout",
          "text": [
            "[[0, 1, 2, 4, 8], [6, 2, 2, 1, 9], [3, 3, 3, 3, 3], [4, 6, 7, 1, 2], [5, 7, 3, 4, 0]]\n"
          ]
        }
      ]
    },
    {
      "cell_type": "code",
      "source": [
        "print(*matrix)"
      ],
      "metadata": {
        "colab": {
          "base_uri": "https://localhost:8080/"
        },
        "id": "9TQKRSISkC4k",
        "outputId": "fd846176-c43b-402c-e108-50f9c886ce59"
      },
      "execution_count": null,
      "outputs": [
        {
          "output_type": "stream",
          "name": "stdout",
          "text": [
            "[0, 1, 2, 4, 8] [6, 2, 2, 1, 9] [3, 3, 3, 3, 3] [4, 6, 7, 1, 2] [5, 7, 3, 4, 0]\n"
          ]
        }
      ]
    },
    {
      "cell_type": "code",
      "source": [
        "a = [1, 2, 5, 7]\n",
        "b = [3, 4, 6]"
      ],
      "metadata": {
        "id": "Ksir05Ibka2E"
      },
      "execution_count": null,
      "outputs": []
    },
    {
      "cell_type": "code",
      "source": [
        "for x in zip(a, b):\n",
        "    print(x)"
      ],
      "metadata": {
        "colab": {
          "base_uri": "https://localhost:8080/"
        },
        "id": "geVe8ggAkfDs",
        "outputId": "c1493c7e-6ed3-493c-9ca9-4f405614a65f"
      },
      "execution_count": null,
      "outputs": [
        {
          "output_type": "stream",
          "name": "stdout",
          "text": [
            "(1, 3)\n",
            "(2, 4)\n",
            "(5, 6)\n"
          ]
        }
      ]
    },
    {
      "cell_type": "code",
      "source": [
        "for i in zip(*matrix):\n",
        "    print(i)"
      ],
      "metadata": {
        "colab": {
          "base_uri": "https://localhost:8080/"
        },
        "id": "njQ2wXq2kihp",
        "outputId": "c11ed750-a60b-4d9e-cf4c-890a1a07c53d"
      },
      "execution_count": null,
      "outputs": [
        {
          "output_type": "stream",
          "name": "stdout",
          "text": [
            "(0, 6, 3, 4, 5)\n",
            "(1, 2, 3, 6, 7)\n",
            "(2, 2, 3, 7, 3)\n",
            "(4, 1, 3, 1, 4)\n",
            "(8, 9, 3, 2, 0)\n"
          ]
        }
      ]
    },
    {
      "cell_type": "code",
      "source": [],
      "metadata": {
        "id": "MJLLVB8dklfz"
      },
      "execution_count": null,
      "outputs": []
    }
  ],
  "metadata": {
    "kernelspec": {
      "display_name": "Python 3",
      "language": "python",
      "name": "python3"
    },
    "language_info": {
      "codemirror_mode": {
        "name": "ipython",
        "version": 3
      },
      "file_extension": ".py",
      "mimetype": "text/x-python",
      "name": "python",
      "nbconvert_exporter": "python",
      "pygments_lexer": "ipython3",
      "version": "3.7.0"
    },
    "colab": {
      "provenance": []
    }
  },
  "nbformat": 4,
  "nbformat_minor": 0
}