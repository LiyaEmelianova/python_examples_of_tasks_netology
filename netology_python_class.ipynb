{
  "nbformat": 4,
  "nbformat_minor": 0,
  "metadata": {
    "colab": {
      "provenance": []
    },
    "kernelspec": {
      "name": "python3",
      "display_name": "Python 3"
    },
    "language_info": {
      "name": "python"
    }
  },
  "cells": [
    {
      "cell_type": "markdown",
      "source": [
        "## Задание 1"
      ],
      "metadata": {
        "id": "mBIHQsHHfjGB"
      }
    },
    {
      "cell_type": "markdown",
      "source": [
        "Напишите функцию, которая возвращает название валюты (**поле 'Name'**) с\n",
        "максимальным значением курса с помощью сервиса www.cbr-xml-daily.ru...ly_json.js"
      ],
      "metadata": {
        "id": "TDt13iabfq4Y"
      }
    },
    {
      "cell_type": "code",
      "execution_count": null,
      "metadata": {
        "id": "hTCsNKVOfgLo"
      },
      "outputs": [],
      "source": [
        "import exchange\n",
        "from exchange import Rate"
      ]
    },
    {
      "cell_type": "code",
      "source": [
        "from operator import itemgetter\n",
        "import requests\n",
        "\n",
        "class Rate:\n",
        "    def __init__(self, format_='value'):\n",
        "        self.format = format_\n",
        "\n",
        "    def exchange_rates(self):\n",
        "        self.r = requests.get('https://www.cbr-xml-daily.ru/daily_json.js')\n",
        "        return self.r.json()['Valute']\n",
        "\n",
        "    def max_rate(self):\n",
        "        getter = itemgetter('Name', 'Value')\n",
        "        rates = [getter(info) for info in self.exchange_rates().values()]\n",
        "        return max(rates, key=itemgetter(1))\n",
        "\n",
        "\n",
        "r = Rate()\n",
        "print(r.max_rate())"
      ],
      "metadata": {
        "colab": {
          "base_uri": "https://localhost:8080/"
        },
        "id": "7UR7uEvnmymd",
        "outputId": "76a02ce7-77d0-4b3d-a0b4-065e24cb573a"
      },
      "execution_count": null,
      "outputs": [
        {
          "output_type": "stream",
          "name": "stdout",
          "text": [
            "('Китайских юаней', 98.9492)\n"
          ]
        }
      ]
    },
    {
      "cell_type": "markdown",
      "source": [
        "## Задание 2"
      ],
      "metadata": {
        "id": "t5Kq2-aKuKCY"
      }
    },
    {
      "cell_type": "markdown",
      "source": [
        "Добавьте в класс **Rate** параметр **diff** (со значениями **True** или **False**), который в случае значения **True** в методах курсов валют (**eur**, **usd** и т.д.) будет возвращать не курс валюты, а изменение по сравнению в прошлым значением. Считайте, **self.diff** будет принимать значение **True** только при возврате значения курса. При отображении всей информации о валюте он не используется."
      ],
      "metadata": {
        "id": "Qd0Me5NPuPY6"
      }
    },
    {
      "cell_type": "code",
      "source": [
        "class Rate:\n",
        "    def __init__(self, format='value',diff=False):\n",
        "        self.format = format\n",
        "        self.diff=diff\n",
        "\n",
        "    def exchange_rates(self):\n",
        "      self.r = requests.get('https://www.cbr-xml-daily.ru/daily_json.js')\n",
        "      return self.r.json()['Valute']\n",
        "\n",
        "    def make_format(self, currency):\n",
        "      response = self.exchange_rates()\n",
        "\n",
        "      if currency in response:\n",
        "          if self.format == 'full':\n",
        "              return response[currency]\n",
        "\n",
        "          if self.format == 'value':\n",
        "              if not self.diff:\n",
        "                  return response[currency]['Value']\n",
        "              else:\n",
        "                  return response[currency]['Value']-response[currency]['Previous']\n",
        "\n",
        "          if self.format=='currency_name':\n",
        "              return response[currency]['Name']\n",
        "\n",
        "      return 'Error'\n",
        "\n",
        "    def eur(self):\n",
        "        \"\"\"Возвращает курс евро на сегодня в формате self.format если diff=False иначе именение\"\"\"\n",
        "        return self.make_format('EUR')\n",
        "\n",
        "    def usd(self):\n",
        "        \"\"\"Возвращает курс доллара на сегодня в формате self.format если diff=False иначе именение\"\"\"\n",
        "        return self.make_format('USD')\n",
        "\n",
        "    def brl(self):\n",
        "        \"\"\"Возвращает курс бразильского реала на сегодня в формате self.format если diff=False иначе именение\"\"\"\n",
        "        return self.make_format('BRL')\n",
        "\n",
        "\n",
        "print (Rate(format='currency_name').make_format('EUR'))\n",
        "print (\"Изменение по сравнению c прошлым значением {:.3f}\".format(Rate(diff=True).eur()))\n",
        "\n",
        "print (Rate(format='currency_name').make_format('USD'))\n",
        "print (\"Изменение по сравнению c прошлым значением {:.3f}\".format(Rate(diff=True).usd()))\n",
        "\n",
        "print (Rate(format='currency_name').make_format('BRL'))\n",
        "print (\"Изменение по сравнению c прошлым значением {:.3f}\".format(Rate(diff=True).brl()))"
      ],
      "metadata": {
        "colab": {
          "base_uri": "https://localhost:8080/"
        },
        "id": "NntYDDykv8YY",
        "outputId": "d399a2ad-7240-44dc-9403-0f3f66d5ea4a"
      },
      "execution_count": null,
      "outputs": [
        {
          "output_type": "stream",
          "name": "stdout",
          "text": [
            "Евро\n",
            "Изменение по сравнению c прошлым значением -0.421\n",
            "Доллар США\n",
            "Изменение по сравнению c прошлым значением -1.640\n",
            "Бразильский реал\n",
            "Изменение по сравнению c прошлым значением -0.168\n"
          ]
        }
      ]
    },
    {
      "cell_type": "markdown",
      "source": [
        "## Задание 3"
      ],
      "metadata": {
        "id": "QrCUDs93EaN1"
      }
    },
    {
      "cell_type": "markdown",
      "source": [
        "Напишите класс **Designer**, который учитывает количество международных премий. Подсказки в коде занятия в разделе \"Домашнее задание задача 3\".\n",
        "\n",
        "**Комментарий по классу Designer** такой:\n",
        "\n",
        "Напишите **класс Designer**, который учитывает количество международных премий для дизайнеров (из презентации: \"Повышение на 1 грейд за каждые 7 баллов. Получение международной премии – это +2 балла\"). Считайте, что при выходе на работу сотрудник уже имеет две премии и их количество не меняется со стажем (конечно если хотите это можно вручную менять).\n",
        "\n",
        "**Класс Designer** пишется по аналогии с классом Developer из материалов занятия."
      ],
      "metadata": {
        "id": "-OUJC60yEd67"
      }
    },
    {
      "cell_type": "code",
      "source": [
        "class Employee:\n",
        "    def __init__(self, name, seniority, awards):\n",
        "        self.name = name\n",
        "        self.seniority = seniority\n",
        "        self.awards= awards\n",
        "\n",
        "        self.grade = 1\n",
        "\n",
        "    def grade_up(self):\n",
        "        \"\"\"Повышает уровень сотрудника\"\"\"\n",
        "        self.grade += 1\n",
        "\n",
        "    def publish_grade(self):\n",
        "        \"\"\"Публикация результатов аккредитации сотрудников\"\"\"\n",
        "        print(self.name, self.grade)"
      ],
      "metadata": {
        "id": "88XZ-2uik_mX"
      },
      "execution_count": null,
      "outputs": []
    },
    {
      "cell_type": "code",
      "source": [
        "class Developer(Employee):\n",
        "    def __init__(self, name, seniority, awards=0):\n",
        "        super().__init__(name, seniority, awards=0)\n",
        "\n",
        "    def check_if_it_is_time_for_upgrade(self):\n",
        "        # для каждой аккредитации увеличиваем счетчик на 1\n",
        "        # пока считаем, что все разработчики проходят аккредитацию\n",
        "        self.seniority += 1\n",
        "\n",
        "        # условие повышения сотрудника из презентации\n",
        "        if self.seniority % 5 == 0:\n",
        "            self.grade_up()\n",
        "\n",
        "        # публикация результатов\n",
        "        return self.publish_grade()"
      ],
      "metadata": {
        "id": "46JNZ6Eim07N"
      },
      "execution_count": null,
      "outputs": []
    },
    {
      "cell_type": "code",
      "source": [
        "class Designer(Employee):\n",
        "    def __init__(self, name, seniority, awards):\n",
        "        super().__init__(name, seniority, awards)\n",
        "\n",
        "    def check_if_it_is_time_for_upgrade(self):\n",
        "        if self.seniority == 0:\n",
        "            self.seniority = 1+self.awards*2\n",
        "        else:\n",
        "            self.seniority+=1\n",
        "        if self.seniority % 7 == 0:\n",
        "                self.grade_up()\n",
        "\n",
        "        return self.publish_grade()"
      ],
      "metadata": {
        "id": "bvay8aP9jTM0"
      },
      "execution_count": null,
      "outputs": []
    },
    {
      "cell_type": "code",
      "source": [
        "petr = Designer('Пётр', seniority=0, awards=2)"
      ],
      "metadata": {
        "id": "hhKzC3c3y9qY"
      },
      "execution_count": null,
      "outputs": []
    },
    {
      "cell_type": "code",
      "source": [
        "for i in range(20):\n",
        "    petr.check_if_it_is_time_for_upgrade()"
      ],
      "metadata": {
        "colab": {
          "base_uri": "https://localhost:8080/"
        },
        "id": "O9i0EUFszjZD",
        "outputId": "3feb8096-021a-414c-fbca-b1e9f62f8aaf"
      },
      "execution_count": null,
      "outputs": [
        {
          "output_type": "stream",
          "name": "stdout",
          "text": [
            "Пётр 1\n",
            "Пётр 1\n",
            "Пётр 2\n",
            "Пётр 2\n",
            "Пётр 2\n",
            "Пётр 2\n",
            "Пётр 2\n",
            "Пётр 2\n",
            "Пётр 2\n",
            "Пётр 3\n",
            "Пётр 3\n",
            "Пётр 3\n",
            "Пётр 3\n",
            "Пётр 3\n",
            "Пётр 3\n",
            "Пётр 3\n",
            "Пётр 4\n",
            "Пётр 4\n",
            "Пётр 4\n",
            "Пётр 4\n"
          ]
        }
      ]
    }
  ]
}