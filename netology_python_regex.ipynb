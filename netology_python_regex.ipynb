{
  "nbformat": 4,
  "nbformat_minor": 0,
  "metadata": {
    "colab": {
      "provenance": []
    },
    "kernelspec": {
      "name": "python3",
      "display_name": "Python 3"
    },
    "language_info": {
      "name": "python"
    }
  },
  "cells": [
    {
      "cell_type": "markdown",
      "source": [
        "## Задание 1"
      ],
      "metadata": {
        "id": "PZcqwHDdK9-k"
      }
    },
    {
      "cell_type": "markdown",
      "source": [
        "Напишите функцию, которая принимает на вход строку и проверяет является ли она валидным транспортным номером (1 буква, 3 цифры, 2 буквы, 2-3 цифры). Обратите внимание, что не все буквы кириллического алфавита используются в транспортных номерах.\n",
        "\n",
        "Если номер валиден, то функция должна возвращать отдельно номер и регион.\n",
        "\n",
        "**Примеры работы программы:**\n",
        "\n",
        "car_id = 'A222BC96'\n",
        "\n",
        "**Результат:** Номер A222BС валиден. Регион: 96\n",
        "\n",
        "car_id = 'АБ22ВВ193'\n",
        "\n",
        "**Результат:** Номер не валиден"
      ],
      "metadata": {
        "id": "j43ShhVGLGnW"
      }
    },
    {
      "cell_type": "code",
      "source": [
        "import re"
      ],
      "metadata": {
        "id": "QzCoGausLYan"
      },
      "execution_count": null,
      "outputs": []
    },
    {
      "cell_type": "code",
      "source": [
        "car_number = input(\"Введите госномер автомобиля: \")\n",
        "\n",
        "def check_number(number):\n",
        "   reg_number = '^[АВЕКМНОРСТУХ]\\d{3}(?<!000)[АВЕКМНОРСТУХ]{2}\\d{2,3}'\n",
        "   if re.match(reg_number, number):\n",
        "        print('Номер {} валиден'.format(number))\n",
        "        regex = r'\\d+'\n",
        "        number_and_region = re.findall(regex, number)\n",
        "        return number_and_region\n",
        "   else:\n",
        "        print ('Номер не валиден!')\n",
        "\n",
        "check_number(car_number)"
      ],
      "metadata": {
        "colab": {
          "base_uri": "https://localhost:8080/"
        },
        "id": "PqNG-mj_LiYE",
        "outputId": "16711ae8-b9d3-4579-a337-4ba2539d9c6a"
      },
      "execution_count": null,
      "outputs": [
        {
          "output_type": "stream",
          "name": "stdout",
          "text": [
            "Введите госномер автомобиля: Т247НС22\n",
            "Номер Т247НС22 валиден\n"
          ]
        },
        {
          "output_type": "execute_result",
          "data": {
            "text/plain": [
              "['247', '22']"
            ]
          },
          "metadata": {},
          "execution_count": 18
        }
      ]
    },
    {
      "cell_type": "markdown",
      "source": [
        "## Задание 2"
      ],
      "metadata": {
        "id": "uUu-0UQlUzhH"
      }
    },
    {
      "cell_type": "markdown",
      "source": [
        "Напишите функцию, которая будет удалять все последовательные повторы слов из заданной строки при помощи регулярных выражений.\n",
        "\n",
        "**Пример работы программы:**\n",
        "\n",
        "*some_string = 'Напишите функцию функцию, которая будет будет будет будет удалять все все все все последовательные повторы слов из из из из заданной строки строки при помощи регулярных выражений.'*\n",
        "\n",
        "**Результат:** Напишите функцию, которая будет удалять все последовательные повторы слов из заданной строки при помощи регулярных выражений."
      ],
      "metadata": {
        "id": "h4Y3KQGrU88-"
      }
    },
    {
      "cell_type": "code",
      "source": [
        "some_string = input('Введите фразу: \\n')\n",
        "\n",
        "def consecutive_replays(some_string):\n",
        "  regex = r'(.+?)\\1+'\n",
        "  return re.sub(regex, r'\\1',some_string)\n",
        "\n",
        "consecutive_replays(some_string)"
      ],
      "metadata": {
        "colab": {
          "base_uri": "https://localhost:8080/",
          "height": 70
        },
        "id": "ccg3kGTyVL3O",
        "outputId": "fdbcda6f-ea50-4294-ff8a-f7e02851e0b3"
      },
      "execution_count": null,
      "outputs": [
        {
          "name": "stdout",
          "output_type": "stream",
          "text": [
            "Введите фразу: \n",
            "Напишите функцию функцию, которая будет будет будет будет удалять все все все все последовательные повторы слов из из из из заданной строки строки при помощи регулярных выражений.\n"
          ]
        },
        {
          "output_type": "execute_result",
          "data": {
            "text/plain": [
              "'Напишите функцию, которая будет удалять все последовательные повторы слов из заданой строки при помощи регулярных выражений.'"
            ],
            "application/vnd.google.colaboratory.intrinsic+json": {
              "type": "string"
            }
          },
          "metadata": {},
          "execution_count": 19
        }
      ]
    },
    {
      "cell_type": "markdown",
      "source": [
        "## Задание 3"
      ],
      "metadata": {
        "id": "kHrovOpldr5R"
      }
    },
    {
      "cell_type": "markdown",
      "source": [
        "Напишите функцию, которая будет возвращать акроним по переданной в нее строке со словами.\n",
        "\n",
        "**Примеры работы программы:**\n",
        "\n",
        "*some_words = 'Информационные технологии'*\n",
        "\n",
        "**Результат:** ИТ\n",
        "\n",
        "*some_words = 'Near Field Communication'*\n",
        "\n",
        "**Результат:** NFC"
      ],
      "metadata": {
        "id": "fWn9UwuqdvXE"
      }
    },
    {
      "cell_type": "code",
      "source": [
        "some_words = input(\"Введите слово/слова для преобразования в акроним: \\n\")\n",
        "\n",
        "def conversion_to_acronym(string):\n",
        "  regex = r'(\\b\\w)'\n",
        "  list_find = re.findall(regex, string)\n",
        "  string_find = ''.join(list_find)\n",
        "  return (string_find)\n",
        "\n",
        "conversion_to_acronym(some_words)"
      ],
      "metadata": {
        "colab": {
          "base_uri": "https://localhost:8080/",
          "height": 70
        },
        "id": "nl54wlLfeHUV",
        "outputId": "c5f96801-7f23-44e2-df17-f61b366a8be0"
      },
      "execution_count": null,
      "outputs": [
        {
          "name": "stdout",
          "output_type": "stream",
          "text": [
            "Введите слово/слова для преобразования в акроним: \n",
            "Алтайский Государственный Технический Университет\n"
          ]
        },
        {
          "output_type": "execute_result",
          "data": {
            "text/plain": [
              "'АГТУ'"
            ],
            "application/vnd.google.colaboratory.intrinsic+json": {
              "type": "string"
            }
          },
          "metadata": {},
          "execution_count": 20
        }
      ]
    },
    {
      "cell_type": "markdown",
      "source": [
        "## Задание 4"
      ],
      "metadata": {
        "id": "PiL0aI7CmR19"
      }
    },
    {
      "cell_type": "markdown",
      "source": [
        "Напишите функцию, которая будет принимать на вход список email-адресов и выводить их распределение по доменным зонам.\n",
        "\n",
        "**Пример работы программы:**\n",
        "\n",
        "emails = ['test@gmail.com', 'xyz@test.in', 'test@ya.ru', 'xyz@mail.ru', 'xyz@ya.ru', 'xyz@gmail.com']\n",
        "\n",
        "**Результат:**\n",
        "\n",
        "     1 gmail.com: 2\n",
        "     2 test.in: 1\n",
        "     3 ya.ru: 2\n",
        "     4 mail.ru: 1"
      ],
      "metadata": {
        "id": "T2hQ9D7DmUUw"
      }
    },
    {
      "cell_type": "code",
      "source": [
        "dic = {}\n",
        "\n",
        "emails = ['liya.lev@yandex.ru', 'rybka@test.in', 'fish@ya.ru', 'jeck@mail.ru', 'igo102@yandex.ru', 'igra@gmail.com', 'sofi@rambler.ru']\n",
        "\n",
        "def emails_address(emails):\n",
        "  for i in re.findall(r\"(?<=@).+?(?=')\", str(emails)):\n",
        "    dic[i] = dic.setdefault(i, 0) + 1\n",
        "  print(str(dic).replace(', ', '\\n'))\n",
        "\n",
        "emails_address(emails)"
      ],
      "metadata": {
        "colab": {
          "base_uri": "https://localhost:8080/"
        },
        "id": "iecrMlB7sEi5",
        "outputId": "332d2224-8177-4877-d142-3b98d5f81d5a"
      },
      "execution_count": null,
      "outputs": [
        {
          "output_type": "stream",
          "name": "stdout",
          "text": [
            "{'yandex.ru': 2\n",
            "'test.in': 1\n",
            "'ya.ru': 1\n",
            "'mail.ru': 1\n",
            "'gmail.com': 1\n",
            "'rambler.ru': 1}\n"
          ]
        }
      ]
    },
    {
      "cell_type": "markdown",
      "source": [
        "## Задание 5 (необязательное)"
      ],
      "metadata": {
        "id": "hkS7zuJXmCLJ"
      }
    },
    {
      "cell_type": "markdown",
      "source": [
        "Напишите функцию, которая будет подсчитывать сколько слов начинается на гласные, а сколько на согласные буквы в тексте (текст может быть написан как с использованием букв кириллицы, так и латиницы).\n",
        "\n",
        "**Пример работы программы:**\n",
        "\n",
        "     1 some_text = 'Эталонной реализацией Python является интерпретатор CPython, поддерживающий большинство активно используемых платформ. Он распространяется под свободной лицензией Python Software Foundation License, позволяющей использовать его без ограничений в любых приложениях, включая проприетарные.'\n",
        "**Результат**:\n",
        "\n",
        "     1 Слов на гласные буквы: 9\n",
        "     2 Слов на согласные буквы: 21"
      ],
      "metadata": {
        "id": "Qoagl3IwmJHc"
      }
    },
    {
      "cell_type": "code",
      "source": [
        "import re\n",
        "\n",
        "row_input = input(\"Введите строку: \\n\")\n",
        "#row_input = 'Эталонной реализацией Python является интерпретатор CPython, поддерживающий большинство активно используемых платформ. Он распространяется под свободной лицензией Python Software Foundation License, позволяющей использовать его без ограничений в любых приложениях, включая проприетарные.'\n",
        "row_input = row_input.lower()\n",
        "vowels = ['a','e','i','o','u','а','е','ё','и','о','у','ы','э','ю','я']\n",
        "consonants = ['b','c','d','f','g','h','j','k','l','m','n','p','q','r','s','t','v','w','x','y','z','б','в','г','д','ж','з','й','к','л','м','н','п','р','с','т','ф','х','ц','ч','ш','щ']\n",
        "vowelCount = 0\n",
        "consonantCount = 0\n",
        "\n",
        "words_list = re.split(\"\\W+\", row_input)\n",
        "\n",
        "for word in words_list:\n",
        "    if not word:\n",
        "      continue\n",
        "    if word[0] in vowels:\n",
        "        vowelCount += 1\n",
        "    if word[0] in consonants:\n",
        "        consonantCount += 1\n",
        "\n",
        "print(\"\\nСлов на гласные буквы: %s. \\nСлов на согласные буквы: %s.\" %(vowelCount, consonantCount))"
      ],
      "metadata": {
        "colab": {
          "base_uri": "https://localhost:8080/"
        },
        "id": "Bzqvv9VyzeZ3",
        "outputId": "8501557a-52c5-467f-d3a7-7cf507cb54d9"
      },
      "execution_count": null,
      "outputs": [
        {
          "output_type": "stream",
          "name": "stdout",
          "text": [
            "Введите строку: \n",
            "Эталонной реализацией Python является интерпретатор CPython, поддерживающий большинство активно используемых платформ. Он распространяется под свободной лицензией Python Software Foundation License, позволяющей использовать его без ограничений в любых приложениях, включая проприетарные.\n",
            "\n",
            "Слов на гласные буквы: 9. \n",
            "Слов на согласные буквы: 21.\n"
          ]
        }
      ]
    },
    {
      "cell_type": "markdown",
      "source": [
        "## Задание 6 (необязательное)"
      ],
      "metadata": {
        "id": "5GAkSy9O-NB3"
      }
    },
    {
      "cell_type": "markdown",
      "source": [
        "Напишите функцию, которая будет проверять номер сотового телефона на валидность (только для российского формата), если он валиден, то переводить его в формат:\n",
        "+7-xxx-xxx-xx-xx\n",
        "\n",
        "Постарайтесь предусмотреть как можно больше адекватных форматов изначального ввода номера.\n",
        "\n",
        "**Примеры работы программы:**\n",
        "\n",
        "    1 phone = '+7 955 555-55-55'\n",
        "**Результат**: +7-955-555-55-55\n",
        "\n",
        "    1 phone = '8(955)555-55-55'\n",
        "**Результат**: +7-955-555-55-55\n",
        "\n",
        "    1 phone = '+7 955 555 55 55'\n",
        "**Результат**: +7-955-555-55-55\n",
        "\n",
        "    1 phone = '7(955) 555-55-55'\n",
        "**Результат**: +7-955-555-55-55\n",
        "\n",
        "    1 phone = '423-555-55-5555'\n",
        "**Результат**: Номер не валиден\n",
        "\n",
        "    1 phone = '123-456-789'\n",
        "**Результат**: Номер не валиден"
      ],
      "metadata": {
        "id": "kkaXH0PR-SmJ"
      }
    },
    {
      "cell_type": "code",
      "source": [
        "numbers = ['+7 955 555-55-55', '8(955)555-55-55', '+7 955 555 55 55', '7(955) 555-55-55', '423-555-55-5555', '123-456-789']\n",
        "\n",
        "add_number = input(\"Введите номер телефона: \\n\")\n",
        "numbers.append(add_number)\n",
        "\n",
        "def phone_number(data):\n",
        "    for val in numbers:\n",
        "        rendex = r'(8|\\+7|7)(\\s*)?(\\+)?([- _():=+]?\\d[- _():=+]?){10}(\\s*)?'\n",
        "        if re.search(rendex, val):\n",
        "          rendex_num = '\\d'\n",
        "          number = re.findall(rendex_num, val)\n",
        "          print ('+7-{}-{}-{}-{}'.format(''.join(number[1:4]),''.join(number[4:7]),''.join(number[7:9]),''.join(number[9:11])))\n",
        "        else:\n",
        "          print(\"Номер не валиден\")\n",
        "\n",
        "phone_number(numbers)"
      ],
      "metadata": {
        "colab": {
          "base_uri": "https://localhost:8080/"
        },
        "id": "zw3HWFK9-5BB",
        "outputId": "abaad65c-57f7-47ae-84af-fc2b2f2fde10"
      },
      "execution_count": null,
      "outputs": [
        {
          "output_type": "stream",
          "name": "stdout",
          "text": [
            "Введите номер телефона: \n",
            "89130897355\n",
            "+7-955-555-55-55\n",
            "+7-955-555-55-55\n",
            "+7-955-555-55-55\n",
            "+7-955-555-55-55\n",
            "Номер не валиден\n",
            "Номер не валиден\n",
            "+7-913-089-73-55\n"
          ]
        }
      ]
    }
  ]
}