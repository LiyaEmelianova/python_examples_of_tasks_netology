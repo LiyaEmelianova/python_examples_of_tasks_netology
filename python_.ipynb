{
  "nbformat": 4,
  "nbformat_minor": 0,
  "metadata": {
    "colab": {
      "provenance": []
    },
    "kernelspec": {
      "name": "python3",
      "display_name": "Python 3"
    },
    "language_info": {
      "name": "python"
    }
  },
  "cells": [
    {
      "cell_type": "markdown",
      "source": [
        "### **Задание 1**"
      ],
      "metadata": {
        "id": "CaDJCq0HLOJ1"
      }
    },
    {
      "cell_type": "markdown",
      "source": [
        "Даны 2 переменных, в которых хранятся строки произвольной длины: phrase_1 и phrase_2.\n",
        "Напишите код, который проверяет какая из этих строк длиннее (например, фразы 'Насколько проще было бы писать программы, если бы не заказчики' и '640Кб должно хватить для любых задач. Билл Гейтс (по легенде)')."
      ],
      "metadata": {
        "id": "bThdjhvfLi5x"
      }
    },
    {
      "cell_type": "code",
      "source": [
        "phrase_1 = str(input('Введите фразу 1: '))\n",
        "phrase_2 = str(input('Введите фразу 2: '))\n",
        "if len(phrase_1) > len(phrase_2):\n",
        "    print('Фраза 1 длиннее фразы 2')\n",
        "elif len(phrase_1) < len(phrase_2):\n",
        "    print('Фраза 2 длиннее фразы 1')\n",
        "else: print('Фразы равны')"
      ],
      "metadata": {
        "colab": {
          "base_uri": "https://localhost:8080/"
        },
        "id": "0cDpQbC_5NQj",
        "outputId": "c391ac04-f9bd-428f-a81e-ec557e8dec6d"
      },
      "execution_count": null,
      "outputs": [
        {
          "output_type": "stream",
          "name": "stdout",
          "text": [
            "Введите фразу 1: Насколько проще было бы писать программы, если бы не заказчики\n",
            "Введите фразу 2: Насколько проще было бы писать программы, если бы не заказчики\n",
            "Фразы равны\n"
          ]
        }
      ]
    },
    {
      "cell_type": "markdown",
      "source": [
        "### **Задание 2**"
      ],
      "metadata": {
        "id": "Wwl5K0OxLMwM"
      }
    },
    {
      "cell_type": "markdown",
      "source": [
        "Дана переменная, в которой хранится число (год). Необходимо написать программу, которая выведет, является ли данный год високосным или обычным."
      ],
      "metadata": {
        "id": "cm5ZHc9fMV0P"
      }
    },
    {
      "cell_type": "code",
      "source": [
        "year = int(input('Введите год: '))\n",
        "\n",
        "if (year % 4 == 0 and year % 100 != 0) or year % 400 == 0:\n",
        "    print('Високосный год')\n",
        "else:\n",
        "    print('Обычный год')"
      ],
      "metadata": {
        "colab": {
          "base_uri": "https://localhost:8080/"
        },
        "id": "eUZgZmGvOWm_",
        "outputId": "23005843-db7a-4594-8bd7-adee90920f71"
      },
      "execution_count": null,
      "outputs": [
        {
          "output_type": "stream",
          "name": "stdout",
          "text": [
            "Введите год: 2012\n",
            "Високосный год\n"
          ]
        }
      ]
    },
    {
      "cell_type": "markdown",
      "source": [
        "### **Задание 3**"
      ],
      "metadata": {
        "id": "g-_95XFhQGsX"
      }
    },
    {
      "cell_type": "markdown",
      "source": [
        "Необходимо написать программу, которая будет запрашивать у пользователя месяц и дату рождения и выводить соответствующий знак зодиака."
      ],
      "metadata": {
        "id": "f9fWuE-xQMD7"
      }
    },
    {
      "cell_type": "code",
      "source": [
        "Day = int(input('Введите день:\\n'))\n",
        "print()\n",
        "Month = str(input('Введите месяц:\\n'))\n",
        "if ((Day >= 20 and Month=='Март')or(Day<= 19 and Month=='Апрель')):\n",
        "        zodiac_sign = (\"Овен\")\n",
        "elif ((Day >= 20 and Month=='Апрель')or(Day<= 20 and Month=='Май')):\n",
        "        zodiac_sign = (\"Телец\")\n",
        "elif ((Day >= 21 and Month=='Май')or(Day<= 20 and Month=='Июнь')):\n",
        "        zodiac_sign = (\"Близнецы\")\n",
        "elif ((Day >= 21 and Month=='Июнь')or(Day<= 22 and Month=='Июль')):\n",
        "        zodiac_sign = (\"Рак\")\n",
        "elif ((Day >= 23 and Month=='Июль')or(Day<= 22 and Month=='Август')):\n",
        "        zodiac_sign = (\"Лев\")\n",
        "elif ((Day >= 23 and Month=='Август')or(Day<= 22 and Month=='Сентябрь')):\n",
        "        Signo_Zodiacal = (\"Дева\")\n",
        "elif ((Day >= 23 and Month=='Сентябрь')or(Day<= 22 and Month=='Октябрь')):\n",
        "        zodiac_sign = (\"Весы\")\n",
        "elif ((Day >= 23 and Month=='Октябрь')or(Day<= 21 and Month=='Ноябрь')):\n",
        "        zodiac_sign = (\"Скорпион\")\n",
        "elif ((Day >= 22 and Month=='Ноябрь')or(Day<= 21 and Month=='Декабрь')):\n",
        "        zodiac_sign = (\"Стрелец\")\n",
        "elif ((Day >= 22 and Month=='Декабрь')or(Day<= 19 and Month=='Январь')):\n",
        "        zodiac_sign = (\"Козерог\")\n",
        "elif ((Day >= 20 and Month=='Январь')or(Day<= 17 and Month=='Февраль')):\n",
        "        zodiac_sign = (\"Водолей\")\n",
        "elif ((Day >= 18 and Month=='Февраль')or(Day<= 19 and Month=='Март')):\n",
        "        zodiac_sign = (\"Рыбы\")\n",
        "else:\n",
        "  print('Не удалось определить знак зодиака')\n",
        "print()\n",
        "print('Ваш знак зодиака:', zodiac_sign)"
      ],
      "metadata": {
        "colab": {
          "base_uri": "https://localhost:8080/"
        },
        "id": "8hip71h3QSKu",
        "outputId": "6559a8f5-06ee-42e0-b42c-dd1723e8af77"
      },
      "execution_count": null,
      "outputs": [
        {
          "output_type": "stream",
          "name": "stdout",
          "text": [
            "Введите день:\n",
            "15\n",
            "\n",
            "Введите месяц:\n",
            "Август\n",
            "\n",
            "Ваш знак зодиака: Лев\n"
          ]
        }
      ]
    },
    {
      "cell_type": "markdown",
      "source": [
        "### **Задание 4**"
      ],
      "metadata": {
        "id": "8onZyc-X6iNh"
      }
    },
    {
      "cell_type": "markdown",
      "source": [
        "Вам нужно написать программу для подбора упаковок по размерам товара. Размеры (ширина, длина, высота) хранятся в переменных (в сантиметрах):\n",
        "\n",
        "Используйте следующие правила:\n",
        "\n",
        "* если каждое из трех измерений менее или равно 15 сантиметрам, то выведите на экран “Коробка №1”;\n",
        "* если хотя бы одно из измерений больше 15 сантиметров, но менее 50 сантиметров, то выводите “Коробка №2”;\n",
        "* если длина товара больше 2 метров, то выводите “Упаковка для лыж”;\n",
        "во всех остальных случаях выводите “Стандартная коробка №3”."
      ],
      "metadata": {
        "id": "A6_rYRy16pat"
      }
    },
    {
      "cell_type": "code",
      "source": [
        "width = 50\n",
        "length = 200\n",
        "height = 50\n",
        "\n",
        "width = int(input('width = '))\n",
        "length = int(input('length = '))\n",
        "height = int(input('height = '))\n",
        "print()\n",
        "if width <= 15 and length <= 15 and height <= 15:\n",
        "  print('Коробка №1')\n",
        "elif (width > 15 or length > 15 or height > 15) and (width < 50 and length < 50 and height < 50):\n",
        "  print('Коробка №2')\n",
        "elif length > 200:\n",
        "  print('Упаковка для лыж')\n",
        "else:\n",
        "  print('Стандартная коробка №3')"
      ],
      "metadata": {
        "colab": {
          "base_uri": "https://localhost:8080/"
        },
        "id": "2D-QtksC6s5H",
        "outputId": "e73538b2-56ac-4f87-a889-5968c763dd63"
      },
      "execution_count": null,
      "outputs": [
        {
          "output_type": "stream",
          "name": "stdout",
          "text": [
            "width = 17\n",
            "length = 17\n",
            "height = 17\n",
            "\n",
            "Коробка №2\n"
          ]
        }
      ]
    },
    {
      "cell_type": "markdown",
      "source": [
        "### **Задание 5 (необязательное)***"
      ],
      "metadata": {
        "id": "TYkHkD2VC1MB"
      }
    },
    {
      "cell_type": "markdown",
      "source": [
        "Дана переменная, в которой хранится шестизначное число (номер проездного билета). Напишите программу, которая будет определять, является ли данный билет “счастливым”. Билет считается счастливым, если сумма первых трех цифр совпадает с суммой последних трех цифр номера."
      ],
      "metadata": {
        "id": "UYaZJsNpC_e_"
      }
    },
    {
      "cell_type": "code",
      "source": [
        "x = list(map(int, list(input())))\n",
        "\n",
        "left = sum(x[0:-3])\n",
        "right = sum(x[-3:])\n",
        "if left == right:\n",
        "    print('Счастливый билет')\n",
        "else:\n",
        "    print('Несчастливый билет')"
      ],
      "metadata": {
        "colab": {
          "base_uri": "https://localhost:8080/"
        },
        "id": "7DpKkz0ODFjO",
        "outputId": "793261c4-67d8-4a4c-8cdb-38a1e1638ec7"
      },
      "execution_count": null,
      "outputs": [
        {
          "output_type": "stream",
          "name": "stdout",
          "text": [
            "171171\n",
            "Счастливый билет\n"
          ]
        }
      ]
    },
    {
      "cell_type": "markdown",
      "source": [
        "### **Задание 6 (необязательное)***"
      ],
      "metadata": {
        "id": "MKbTYh8WGS6W"
      }
    },
    {
      "cell_type": "markdown",
      "source": [
        "Напишите программу, которая сможет вычислять площади трех фигур (круг, треугольник и прямоугольник). Тип фигуры запрашиваем через пользовательский ввод, после чего делаем запрос характеристик фигуры:\n",
        "\n",
        "* если пользователь выбрал круг, запрашиваем его радиус,\n",
        "* если треугольник – длины трех его сторон;\n",
        "* если прямоугольник – длины двух его сторон."
      ],
      "metadata": {
        "id": "1EvQsyI_GWN9"
      }
    },
    {
      "cell_type": "code",
      "source": [
        "import math\n",
        "\n",
        "tip=str(input(\"Введите тип фигуры:\\n\"))\n",
        "if tip==\"Треугольник\":\n",
        "  print()\n",
        "  a=float(input(\"Введите длину стороны A:\\n\"))\n",
        "  print()\n",
        "  b=float(input(\"Введите длину стороны B:\\n\"))\n",
        "  print()\n",
        "  c=float(input(\"Введите длину стороны C:\\n\"))\n",
        "  print()\n",
        "  p=(a+b+c)/2\n",
        "  s=math.sqrt((p*(p-a)*(p-b)*(p-c)))\n",
        "  print('Площадь треугольника:', (round(s, 2)))\n",
        "elif tip==\"Прямоугольник\":\n",
        "  print()\n",
        "  a=float(input(\"Введите длину стороны A:\\n\"))\n",
        "  print()\n",
        "  b=float(input(\"Введите длину стороны B:\\n\"))\n",
        "  print()\n",
        "  s=a*b\n",
        "  print('Площадь прямоугольника:', (round(s, 2)))\n",
        "elif tip==\"Круг\":\n",
        "  print()\n",
        "  r=float(input(\"Введите радиус круга r = \"))\n",
        "  print()\n",
        "  s=math.pi*(r**2)\n",
        "  print('Площадь круга:', (round(s, 2)))\n",
        "else:\n",
        "    print('Ошибка ввода')"
      ],
      "metadata": {
        "colab": {
          "base_uri": "https://localhost:8080/"
        },
        "id": "FgBxetFZGfJz",
        "outputId": "90101fa0-b3a9-4a75-f0dc-158fbbbd6ad7"
      },
      "execution_count": null,
      "outputs": [
        {
          "output_type": "stream",
          "name": "stdout",
          "text": [
            "Введите тип фигуры:\n",
            "Круг\n",
            "\n",
            "Введите радиус круга r = 15\n",
            "\n",
            "Площадь круга: 706.86\n"
          ]
        }
      ]
    }
  ]
}