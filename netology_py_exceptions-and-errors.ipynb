{
  "nbformat": 4,
  "nbformat_minor": 0,
  "metadata": {
    "colab": {
      "provenance": []
    },
    "kernelspec": {
      "name": "python3",
      "display_name": "Python 3"
    },
    "language_info": {
      "name": "python"
    }
  },
  "cells": [
    {
      "cell_type": "markdown",
      "source": [
        "# Дополнительные практические задания для самостоятельного выполнения"
      ],
      "metadata": {
        "id": "FYZNSRpFgWpj"
      }
    },
    {
      "cell_type": "markdown",
      "source": [
        "## Задание 1"
      ],
      "metadata": {
        "id": "_eJ9vtQvgbmR"
      }
    },
    {
      "cell_type": "markdown",
      "source": [
        "Напишите функцию **date_range**, которая возвращает список дат за период от **start_date** до **end_date**. Даты должны вводиться в формате **YYYY-MM-DD**. В случае неверного формата или при **start_date** > **end_date** должен возвращаться пустой список."
      ],
      "metadata": {
        "id": "Pa5ro4lQggxG"
      }
    },
    {
      "cell_type": "code",
      "source": [
        "from datetime import datetime\n",
        "from datetime import timedelta"
      ],
      "metadata": {
        "id": "gONKYLvsg5YU"
      },
      "execution_count": null,
      "outputs": []
    },
    {
      "cell_type": "code",
      "source": [
        "def date_range():\n",
        "  start_date = input(\"Введите начальную дату в формате YYYY-MM-DD: \")\n",
        "  end_date = input(\"\\nВведите дату окончания в формате YYYY-MM-DD: \")\n",
        "\n",
        "  try:\n",
        "    start_date_dt = datetime.strptime(start_date, '%Y-%m-%d')\n",
        "    end_date_dt = datetime.strptime(end_date, '%Y-%m-%d')\n",
        "  except:\n",
        "    return list()\n",
        "  if start_date_dt > end_date_dt:\n",
        "    return list()\n",
        "\n",
        "  date_list = []\n",
        "  beginning_dt = start_date_dt\n",
        "  while beginning_dt <= end_date_dt:\n",
        "    date_list.append(beginning_dt.strftime('%Y-%m-%d'))\n",
        "    beginning_dt += timedelta(days=1)\n",
        "  return date_list\n",
        "\n",
        "date_range()"
      ],
      "metadata": {
        "colab": {
          "base_uri": "https://localhost:8080/"
        },
        "id": "PkCdhNl7yh1W",
        "outputId": "441350fa-c037-4070-ac47-8ba55b259349"
      },
      "execution_count": null,
      "outputs": [
        {
          "name": "stdout",
          "output_type": "stream",
          "text": [
            "Введите начальную дату: 2022-12-12\n",
            "\n",
            "Введите конечную дату: 2023-01-05\n"
          ]
        },
        {
          "output_type": "execute_result",
          "data": {
            "text/plain": [
              "['2022-12-12',\n",
              " '2022-12-13',\n",
              " '2022-12-14',\n",
              " '2022-12-15',\n",
              " '2022-12-16',\n",
              " '2022-12-17',\n",
              " '2022-12-18',\n",
              " '2022-12-19',\n",
              " '2022-12-20',\n",
              " '2022-12-21',\n",
              " '2022-12-22',\n",
              " '2022-12-23',\n",
              " '2022-12-24',\n",
              " '2022-12-25',\n",
              " '2022-12-26',\n",
              " '2022-12-27',\n",
              " '2022-12-28',\n",
              " '2022-12-29',\n",
              " '2022-12-30',\n",
              " '2022-12-31',\n",
              " '2023-01-01',\n",
              " '2023-01-02',\n",
              " '2023-01-03',\n",
              " '2023-01-04',\n",
              " '2023-01-05']"
            ]
          },
          "metadata": {},
          "execution_count": 13
        }
      ]
    },
    {
      "cell_type": "markdown",
      "source": [
        "## Задание 2"
      ],
      "metadata": {
        "id": "BmKCTDtp8Yoa"
      }
    },
    {
      "cell_type": "markdown",
      "source": [
        "Ваш коллега прислал код функции:\n",
        "\n",
        "1\n",
        "\n",
        "    DEFAULT_USER_COUNT = 3\n",
        "\n",
        "    def delete_and_return_last_user(region, default_list=['A100', 'A101', 'A102']):\n",
        "\n",
        "2\n",
        "\n",
        "    \"\"\"\n",
        "    Удаляет из списка default_list последнего пользователя\n",
        "    и возвращает ID нового последнего пользователя.\n",
        "    \"\"\"\n",
        "\n",
        "3\n",
        "\n",
        "\telement_to_delete = default_list[-1]\n",
        "\tdefault_list.remove(element_to_delete)\n",
        "\n",
        "\treturn default_list[DEFAULT_USER_COUNT-2]\n",
        "\n",
        "При однократном вызове этой функции все работает корректно:\n",
        "\n",
        "    delete_and_return_last_user(1)\n",
        "    'A101'\n",
        "Однако, при повторном вызове получается ошибка IndexError: list index out of range.\n",
        "\n",
        "1. Что значит ошибка list index out of range?\n",
        "2. Почему при первом запуске функция работает корректно, а при втором - нет?"
      ],
      "metadata": {
        "id": "THIl9CcK8dGp"
      }
    },
    {
      "cell_type": "code",
      "source": [
        "DEFAULT_USER_COUNT = 3\n",
        "\n",
        "def delete_and_return_last_user(region, default_list=['A100', 'A101', 'A102']):\n",
        "    \"\"\"\n",
        "    Удаляет из списка default_list последнего пользователя и возвращает ID нового последнего пользователя.\n",
        "    \"\"\"\n",
        "    element_to_delete = default_list[-1]\n",
        "    default_list.remove(element_to_delete)\n",
        "    return default_list[DEFAULT_USER_COUNT-2]"
      ],
      "metadata": {
        "id": "lPCHxbbb-o91"
      },
      "execution_count": null,
      "outputs": []
    },
    {
      "cell_type": "code",
      "source": [
        "delete_and_return_last_user(1)"
      ],
      "metadata": {
        "colab": {
          "base_uri": "https://localhost:8080/",
          "height": 36
        },
        "id": "LxvPv-4PRXVz",
        "outputId": "34efa0b3-021d-4fe3-d20f-934d0f8eee59"
      },
      "execution_count": null,
      "outputs": [
        {
          "output_type": "execute_result",
          "data": {
            "text/plain": [
              "'A101'"
            ],
            "application/vnd.google.colaboratory.intrinsic+json": {
              "type": "string"
            }
          },
          "metadata": {},
          "execution_count": 30
        }
      ]
    },
    {
      "cell_type": "code",
      "source": [
        "delete_and_return_last_user(1)"
      ],
      "metadata": {
        "colab": {
          "base_uri": "https://localhost:8080/",
          "height": 252
        },
        "id": "KrJqanTJR-he",
        "outputId": "1bb866db-7104-4d1c-e36e-da2074f63c7b"
      },
      "execution_count": null,
      "outputs": [
        {
          "output_type": "error",
          "ename": "IndexError",
          "evalue": "ignored",
          "traceback": [
            "\u001b[0;31m---------------------------------------------------------------------------\u001b[0m",
            "\u001b[0;31mIndexError\u001b[0m                                Traceback (most recent call last)",
            "\u001b[0;32m<ipython-input-31-bfb6c4f8c48e>\u001b[0m in \u001b[0;36m<module>\u001b[0;34m\u001b[0m\n\u001b[0;32m----> 1\u001b[0;31m \u001b[0mdelete_and_return_last_user\u001b[0m\u001b[0;34m(\u001b[0m\u001b[0;36m1\u001b[0m\u001b[0;34m)\u001b[0m\u001b[0;34m\u001b[0m\u001b[0;34m\u001b[0m\u001b[0m\n\u001b[0m",
            "\u001b[0;32m<ipython-input-29-4642b4a5c5a4>\u001b[0m in \u001b[0;36mdelete_and_return_last_user\u001b[0;34m(region, default_list)\u001b[0m\n\u001b[1;32m      7\u001b[0m     \u001b[0melement_to_delete\u001b[0m \u001b[0;34m=\u001b[0m \u001b[0mdefault_list\u001b[0m\u001b[0;34m[\u001b[0m\u001b[0;34m-\u001b[0m\u001b[0;36m1\u001b[0m\u001b[0;34m]\u001b[0m\u001b[0;34m\u001b[0m\u001b[0;34m\u001b[0m\u001b[0m\n\u001b[1;32m      8\u001b[0m     \u001b[0mdefault_list\u001b[0m\u001b[0;34m.\u001b[0m\u001b[0mremove\u001b[0m\u001b[0;34m(\u001b[0m\u001b[0melement_to_delete\u001b[0m\u001b[0;34m)\u001b[0m\u001b[0;34m\u001b[0m\u001b[0;34m\u001b[0m\u001b[0m\n\u001b[0;32m----> 9\u001b[0;31m     \u001b[0;32mreturn\u001b[0m \u001b[0mdefault_list\u001b[0m\u001b[0;34m[\u001b[0m\u001b[0mDEFAULT_USER_COUNT\u001b[0m\u001b[0;34m-\u001b[0m\u001b[0;36m2\u001b[0m\u001b[0;34m]\u001b[0m\u001b[0;34m\u001b[0m\u001b[0;34m\u001b[0m\u001b[0m\n\u001b[0m",
            "\u001b[0;31mIndexError\u001b[0m: list index out of range"
          ]
        }
      ]
    },
    {
      "cell_type": "markdown",
      "source": [
        "1. Ошибка IndexError: list index out of range - означает что индекс не входит в диапазон элементов.\n",
        "2. При первом запуске код выполняет команду и удаляет из списка default_list последнего пользователя возвращая ID нового последнего пользователя. Поэтому при попытке повторного выполнения появляется ошибка."
      ],
      "metadata": {
        "id": "M-Vyqu6qA0gB"
      }
    },
    {
      "cell_type": "markdown",
      "source": [
        "# Ещё один вариант решения Задач."
      ],
      "metadata": {
        "id": "k4kvXB-kF23z"
      }
    },
    {
      "cell_type": "markdown",
      "source": [
        "## Задача 1"
      ],
      "metadata": {
        "id": "Ho2XqzwoF-PJ"
      }
    },
    {
      "cell_type": "code",
      "source": [
        "start_date=input('Введите начальную дату в формате YYYY-MM-DD: ')\n",
        "end_date=input('Введите дату окончания в формате YYYY-MM-DD: ')\n",
        "def date_range(start, end):\n",
        "    start_datetime=datetime.strptime(start,'%Y-%m-%d')\n",
        "    end_datetime=datetime.strptime(end,'%Y-%m-%d')\n",
        "    days=[]\n",
        "    if start_datetime<end_datetime:\n",
        "        intermediate_datetime=start_datetime\n",
        "        while intermediate_datetime<=end_datetime:\n",
        "            intermediate_datetime=intermediate_datetime+timedelta(days=1)\n",
        "            print_datetime=datetime.strftime(intermediate_datetime,'%Y-%m-%d')\n",
        "            days.append(print_datetime)\n",
        "        #print(print_datetime)\n",
        "    return(days)\n",
        "date_range(start_date, end_date)"
      ],
      "metadata": {
        "id": "7tr_K26RGt7B"
      },
      "execution_count": null,
      "outputs": []
    },
    {
      "cell_type": "markdown",
      "source": [
        "## Задача 2"
      ],
      "metadata": {
        "id": "nA0mFmqWGvNo"
      }
    },
    {
      "cell_type": "code",
      "source": [
        "DEFAULT_USER_COUNT = 3\n",
        "def delete_and_return_last_user(region, default_list=['A100', 'A101', 'A102']):\n",
        "    \"\"\"\"\" Удаляет из списка default_list последнего пользователя и возвращает ID нового последнего пользователя. \"\"\"\n",
        "    element_to_delete = default_list[-1]\n",
        "    default_list.remove(element_to_delete)\n",
        "    return default_list[DEFAULT_USER_COUNT-2]"
      ],
      "metadata": {
        "id": "cqj_0lvbGxx7"
      },
      "execution_count": null,
      "outputs": []
    },
    {
      "cell_type": "code",
      "source": [
        "delete_and_return_last_user(1)"
      ],
      "metadata": {
        "id": "fcRT9s6iG7eL"
      },
      "execution_count": null,
      "outputs": []
    },
    {
      "cell_type": "markdown",
      "source": [
        "Что значит ошибка list index out of range?\n",
        "Во втором разе он обращается к элементу, которого нет.\n",
        "\n",
        "Почему при первом запуске функция работает корректно, а при втором - нет?\n",
        "В первом запуке программы элемент с индексом 1 есть DEFAULT_USER_COUNT-2=1, так как DEFAULT_USER_COUNT = 3( для втрого раза эта величина так же постоянная, но элемент был удален ранее\n",
        "\n",
        "Исправленная программа:"
      ],
      "metadata": {
        "id": "rUyY9BY-HGr0"
      }
    },
    {
      "cell_type": "code",
      "source": [
        "DEFAULT_USER_COUNT = 3\n",
        "def delete_and_return_last_user(region, default_list=['A100', 'A101', 'A102']):\n",
        "    \"\"\"\"\" Удаляет из списка default_list последнего пользователя и возвращает ID нового последнего пользователя. \"\"\"\n",
        "    element_to_delete = default_list[-1]\n",
        "    default_list.remove(element_to_delete)\n",
        "    return default_list[-1]"
      ],
      "metadata": {
        "id": "xJqwXIhOHHzT"
      },
      "execution_count": null,
      "outputs": []
    },
    {
      "cell_type": "code",
      "source": [
        "delete_and_return_last_user(1)"
      ],
      "metadata": {
        "id": "v9pGeScKK1UU"
      },
      "execution_count": null,
      "outputs": []
    },
    {
      "cell_type": "markdown",
      "source": [
        "## ТРЕНАЖЁРЫ"
      ],
      "metadata": {
        "id": "MHR9Py0oLY78"
      }
    },
    {
      "cell_type": "markdown",
      "source": [
        "## **Форматирование дат**\n",
        "\n",
        "**Условие задачи**\n",
        "\n",
        "Печатные газеты использовали свой формат дат для каждого выпуска.\n",
        "Для каждой газеты ниже переведите дату в формат **YYYY-MM-DD HH:MM:SS**\n",
        "\n",
        "* The Moscow Times - Wednesday, October 2, 2002\n",
        "* The Guardian - Friday, 11.10.13\n",
        "* Daily News - Thursday, 18 August 1977\n",
        "\n",
        "Формат вывода\n",
        "\n",
        "Три строки в формате: **YYYY-MM-DD HH:MM:SS**\n",
        "\n",
        "Для сдачи программы необходимо точно соблюдать требования к формату вывода, иначе тренажер не сможет проверить ваше решение и выдаст ошибку. Решение сдается для данных, которые указаны в начальном коде задания\n",
        "\n",
        "***Пример вывода для строки Sunday, 15.07.90***\n",
        "* **1990-07-15 00:00:00**\n",
        "\n",
        "В примере указаны случайные данные, которые демострируют правильный формат вывода, а не ответ на саму задачу.\n",
        "\n"
      ],
      "metadata": {
        "id": "NvMdDsTlLcQl"
      }
    },
    {
      "cell_type": "code",
      "source": [
        "from datetime import datetime\n",
        "moscow_times = 'Wednesday, October 2, 2002'\n",
        "guardian = 'Friday, 11.10.13'\n",
        "daily_news = 'Thursday, 18 August 1977'\n",
        "mt = datetime.strptime(moscow_times, '%A, %B %d, %Y')\n",
        "g = datetime.strptime(guardian, '%A, %d.%m.%y')\n",
        "dn = datetime.strptime(daily_news, '%A, %d %B %Y')\n",
        "print(mt)\n",
        "print(g)\n",
        "print(dn)\n",
        "\n",
        "#mt = datetime.strptime(moscow_times, '%Y-%m-%d %H:%M:%S')\n",
        "#g = datetime.strptime(guardian, '%Y-%m-%d %H:%M:%S')"
      ],
      "metadata": {
        "colab": {
          "base_uri": "https://localhost:8080/"
        },
        "id": "I6HMFL36L7lw",
        "outputId": "e688c5c4-69c3-4595-cbfe-905bf4652eb3"
      },
      "execution_count": null,
      "outputs": [
        {
          "output_type": "stream",
          "name": "stdout",
          "text": [
            "2002-10-02 00:00:00\n",
            "2013-10-11 00:00:00\n",
            "1977-08-18 00:00:00\n"
          ]
        }
      ]
    },
    {
      "cell_type": "markdown",
      "source": [
        "## **Проверка даты на корректность**\n",
        "\n",
        "**Условие задачи**\n",
        "\n",
        "Напишите функцию, которая проверяет дату в формате **YYYY-MM-DD** на корректность. Функция должна возвращать **True**, если дата корректна, или **False**, если она некорректна.\n",
        "Проверьте даты из массива **dateList** на корректность.\n",
        "\n",
        "Формат вывода\n",
        "\n",
        "Cтроки (по количеству элементов в массиве), содержащие слово **True** или **False**.\n",
        "\n",
        "Для сдачи программы необходимо точно соблюдать требования к формату вывода, иначе тренажер не сможет проверить ваше решение и выдаст ошибку. Решение сдается для данных, которые указаны в начальном коде задания\n",
        "\n",
        "***Пример вывода***\n",
        "\n",
        "**True**\n",
        "\n",
        "**True**\n",
        "\n",
        "**False**\n",
        "\n",
        "**True**\n",
        "\n",
        "В примере указаны случайные данные, которые демострируют правильный формат вывода, а не ответ на саму задачу.`"
      ],
      "metadata": {
        "id": "Y56B5XihMEQZ"
      }
    },
    {
      "cell_type": "code",
      "source": [
        "from datetime import datetime\n",
        "\n",
        "dateList = ['2022-04-02', '2022-19-12', '2022-10-40', '3022-08-06']\n",
        "\n",
        "def check(dateList):\n",
        " for date in dateList:\n",
        "        try:\n",
        "            check_date = datetime.strptime(date,'%Y-%m-%d')\n",
        "        except:\n",
        "            print(False)  #'Некорректная дата:', date)\n",
        "        else:\n",
        "            print(True) #'Дата корректна:', date)\n",
        "\n",
        "check(dateList)"
      ],
      "metadata": {
        "colab": {
          "base_uri": "https://localhost:8080/"
        },
        "id": "HGT87aHOM7vU",
        "outputId": "a366db1d-2b60-43ca-b7d5-6238bd26f2b6"
      },
      "execution_count": null,
      "outputs": [
        {
          "output_type": "stream",
          "name": "stdout",
          "text": [
            "True\n",
            "False\n",
            "False\n",
            "True\n"
          ]
        }
      ]
    }
  ]
}